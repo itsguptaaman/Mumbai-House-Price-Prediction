{
 "cells": [
  {
   "cell_type": "code",
   "execution_count": 1,
   "id": "95e15237",
   "metadata": {},
   "outputs": [],
   "source": [
    "import numpy as np\n",
    "import pandas as pd\n",
    "import matplotlib.pyplot as plt\n",
    "import seaborn as sns\n",
    "from sklearn.model_selection import train_test_split\n",
    "from sklearn.linear_model import LinearRegression, Lasso, Ridge, LassoCV, RidgeCV\n",
    "from sklearn.ensemble import RandomForestRegressor\n",
    "from sklearn.preprocessing import StandardScaler\n",
    "from sklearn.compose import make_column_transformer\n",
    "from sklearn.pipeline import make_pipeline\n",
    "from sklearn.ensemble import GradientBoostingRegressor\n",
    "from sklearn.metrics import r2_score\n",
    "from sklearn.tree import DecisionTreeRegressor\n",
    "import pickle\n",
    "import warnings\n",
    "warnings.filterwarnings(\"ignore\")\n",
    "%matplotlib inline"
   ]
  },
  {
   "cell_type": "code",
   "execution_count": 2,
   "id": "f0b66e2b",
   "metadata": {},
   "outputs": [],
   "source": [
    "df=pd.read_csv(\"Mumbai.txt\",index_col=0)"
   ]
  },
  {
   "cell_type": "code",
   "execution_count": 3,
   "id": "90f76f1f",
   "metadata": {},
   "outputs": [
    {
     "data": {
      "text/html": [
       "<div>\n",
       "<style scoped>\n",
       "    .dataframe tbody tr th:only-of-type {\n",
       "        vertical-align: middle;\n",
       "    }\n",
       "\n",
       "    .dataframe tbody tr th {\n",
       "        vertical-align: top;\n",
       "    }\n",
       "\n",
       "    .dataframe thead th {\n",
       "        text-align: right;\n",
       "    }\n",
       "</style>\n",
       "<table border=\"1\" class=\"dataframe\">\n",
       "  <thead>\n",
       "    <tr style=\"text-align: right;\">\n",
       "      <th></th>\n",
       "      <th>Price</th>\n",
       "      <th>Area</th>\n",
       "      <th>Location</th>\n",
       "      <th>No. of Bedrooms</th>\n",
       "      <th>New/Resale</th>\n",
       "      <th>Gymnasium</th>\n",
       "      <th>Lift Available</th>\n",
       "      <th>Car Parking</th>\n",
       "      <th>Maintenance Staff</th>\n",
       "      <th>24x7 Security</th>\n",
       "      <th>Children's Play Area</th>\n",
       "      <th>Clubhouse</th>\n",
       "      <th>Intercom</th>\n",
       "      <th>Landscaped Gardens</th>\n",
       "      <th>Indoor Games</th>\n",
       "      <th>Gas Connection</th>\n",
       "      <th>Jogging Track</th>\n",
       "      <th>Swimming Pool</th>\n",
       "    </tr>\n",
       "  </thead>\n",
       "  <tbody>\n",
       "    <tr>\n",
       "      <th>0</th>\n",
       "      <td>4850000</td>\n",
       "      <td>720</td>\n",
       "      <td>Kharghar</td>\n",
       "      <td>1</td>\n",
       "      <td>0</td>\n",
       "      <td>0</td>\n",
       "      <td>1</td>\n",
       "      <td>1</td>\n",
       "      <td>1</td>\n",
       "      <td>1</td>\n",
       "      <td>0</td>\n",
       "      <td>0</td>\n",
       "      <td>0</td>\n",
       "      <td>0</td>\n",
       "      <td>0</td>\n",
       "      <td>0</td>\n",
       "      <td>0</td>\n",
       "      <td>0</td>\n",
       "    </tr>\n",
       "    <tr>\n",
       "      <th>1</th>\n",
       "      <td>4500000</td>\n",
       "      <td>600</td>\n",
       "      <td>Kharghar</td>\n",
       "      <td>1</td>\n",
       "      <td>0</td>\n",
       "      <td>1</td>\n",
       "      <td>1</td>\n",
       "      <td>1</td>\n",
       "      <td>1</td>\n",
       "      <td>1</td>\n",
       "      <td>0</td>\n",
       "      <td>1</td>\n",
       "      <td>0</td>\n",
       "      <td>0</td>\n",
       "      <td>0</td>\n",
       "      <td>0</td>\n",
       "      <td>1</td>\n",
       "      <td>1</td>\n",
       "    </tr>\n",
       "    <tr>\n",
       "      <th>2</th>\n",
       "      <td>6700000</td>\n",
       "      <td>650</td>\n",
       "      <td>Kharghar</td>\n",
       "      <td>1</td>\n",
       "      <td>0</td>\n",
       "      <td>1</td>\n",
       "      <td>1</td>\n",
       "      <td>1</td>\n",
       "      <td>1</td>\n",
       "      <td>1</td>\n",
       "      <td>1</td>\n",
       "      <td>1</td>\n",
       "      <td>1</td>\n",
       "      <td>0</td>\n",
       "      <td>0</td>\n",
       "      <td>0</td>\n",
       "      <td>1</td>\n",
       "      <td>1</td>\n",
       "    </tr>\n",
       "    <tr>\n",
       "      <th>3</th>\n",
       "      <td>4500000</td>\n",
       "      <td>650</td>\n",
       "      <td>Kharghar</td>\n",
       "      <td>1</td>\n",
       "      <td>0</td>\n",
       "      <td>0</td>\n",
       "      <td>1</td>\n",
       "      <td>1</td>\n",
       "      <td>1</td>\n",
       "      <td>1</td>\n",
       "      <td>0</td>\n",
       "      <td>0</td>\n",
       "      <td>1</td>\n",
       "      <td>1</td>\n",
       "      <td>0</td>\n",
       "      <td>0</td>\n",
       "      <td>0</td>\n",
       "      <td>0</td>\n",
       "    </tr>\n",
       "    <tr>\n",
       "      <th>4</th>\n",
       "      <td>5000000</td>\n",
       "      <td>665</td>\n",
       "      <td>Kharghar</td>\n",
       "      <td>1</td>\n",
       "      <td>0</td>\n",
       "      <td>0</td>\n",
       "      <td>1</td>\n",
       "      <td>1</td>\n",
       "      <td>1</td>\n",
       "      <td>1</td>\n",
       "      <td>0</td>\n",
       "      <td>0</td>\n",
       "      <td>1</td>\n",
       "      <td>1</td>\n",
       "      <td>0</td>\n",
       "      <td>0</td>\n",
       "      <td>0</td>\n",
       "      <td>0</td>\n",
       "    </tr>\n",
       "  </tbody>\n",
       "</table>\n",
       "</div>"
      ],
      "text/plain": [
       "     Price  Area  Location  No. of Bedrooms  New/Resale  Gymnasium  \\\n",
       "0  4850000   720  Kharghar                1           0          0   \n",
       "1  4500000   600  Kharghar                1           0          1   \n",
       "2  6700000   650  Kharghar                1           0          1   \n",
       "3  4500000   650  Kharghar                1           0          0   \n",
       "4  5000000   665  Kharghar                1           0          0   \n",
       "\n",
       "   Lift Available  Car Parking  Maintenance Staff  24x7 Security  \\\n",
       "0               1            1                  1              1   \n",
       "1               1            1                  1              1   \n",
       "2               1            1                  1              1   \n",
       "3               1            1                  1              1   \n",
       "4               1            1                  1              1   \n",
       "\n",
       "   Children's Play Area  Clubhouse  Intercom  Landscaped Gardens  \\\n",
       "0                     0          0         0                   0   \n",
       "1                     0          1         0                   0   \n",
       "2                     1          1         1                   0   \n",
       "3                     0          0         1                   1   \n",
       "4                     0          0         1                   1   \n",
       "\n",
       "   Indoor Games  Gas Connection  Jogging Track  Swimming Pool  \n",
       "0             0               0              0              0  \n",
       "1             0               0              1              1  \n",
       "2             0               0              1              1  \n",
       "3             0               0              0              0  \n",
       "4             0               0              0              0  "
      ]
     },
     "execution_count": 3,
     "metadata": {},
     "output_type": "execute_result"
    }
   ],
   "source": [
    "df.head()"
   ]
  },
  {
   "cell_type": "code",
   "execution_count": 4,
   "id": "f0434f7f",
   "metadata": {},
   "outputs": [
    {
     "data": {
      "text/plain": [
       "(6347, 18)"
      ]
     },
     "execution_count": 4,
     "metadata": {},
     "output_type": "execute_result"
    }
   ],
   "source": [
    "df.shape"
   ]
  },
  {
   "cell_type": "code",
   "execution_count": 5,
   "id": "028334e7",
   "metadata": {},
   "outputs": [
    {
     "data": {
      "text/plain": [
       "Area\n",
       "200     2\n",
       "216     1\n",
       "220     3\n",
       "225     6\n",
       "239     1\n",
       "       ..\n",
       "6381    1\n",
       "6900    1\n",
       "7000    1\n",
       "7600    1\n",
       "8511    1\n",
       "Name: Area, Length: 1140, dtype: int64"
      ]
     },
     "execution_count": 5,
     "metadata": {},
     "output_type": "execute_result"
    }
   ],
   "source": [
    "df.groupby('Area')['Area'].agg('count')"
   ]
  },
  {
   "cell_type": "code",
   "execution_count": 6,
   "id": "2832e559",
   "metadata": {},
   "outputs": [],
   "source": [
    "df.drop(['Landscaped Gardens','Jogging Track','Swimming Pool','Indoor Games','New/Resale','Gas Connection'],axis=1,inplace=True)"
   ]
  },
  {
   "cell_type": "code",
   "execution_count": 7,
   "id": "4c28e416",
   "metadata": {},
   "outputs": [
    {
     "data": {
      "text/html": [
       "<div>\n",
       "<style scoped>\n",
       "    .dataframe tbody tr th:only-of-type {\n",
       "        vertical-align: middle;\n",
       "    }\n",
       "\n",
       "    .dataframe tbody tr th {\n",
       "        vertical-align: top;\n",
       "    }\n",
       "\n",
       "    .dataframe thead th {\n",
       "        text-align: right;\n",
       "    }\n",
       "</style>\n",
       "<table border=\"1\" class=\"dataframe\">\n",
       "  <thead>\n",
       "    <tr style=\"text-align: right;\">\n",
       "      <th></th>\n",
       "      <th>Price</th>\n",
       "      <th>Area</th>\n",
       "      <th>Location</th>\n",
       "      <th>No. of Bedrooms</th>\n",
       "      <th>Gymnasium</th>\n",
       "      <th>Lift Available</th>\n",
       "      <th>Car Parking</th>\n",
       "      <th>Maintenance Staff</th>\n",
       "      <th>24x7 Security</th>\n",
       "      <th>Children's Play Area</th>\n",
       "      <th>Clubhouse</th>\n",
       "      <th>Intercom</th>\n",
       "    </tr>\n",
       "  </thead>\n",
       "  <tbody>\n",
       "    <tr>\n",
       "      <th>0</th>\n",
       "      <td>4850000</td>\n",
       "      <td>720</td>\n",
       "      <td>Kharghar</td>\n",
       "      <td>1</td>\n",
       "      <td>0</td>\n",
       "      <td>1</td>\n",
       "      <td>1</td>\n",
       "      <td>1</td>\n",
       "      <td>1</td>\n",
       "      <td>0</td>\n",
       "      <td>0</td>\n",
       "      <td>0</td>\n",
       "    </tr>\n",
       "    <tr>\n",
       "      <th>1</th>\n",
       "      <td>4500000</td>\n",
       "      <td>600</td>\n",
       "      <td>Kharghar</td>\n",
       "      <td>1</td>\n",
       "      <td>1</td>\n",
       "      <td>1</td>\n",
       "      <td>1</td>\n",
       "      <td>1</td>\n",
       "      <td>1</td>\n",
       "      <td>0</td>\n",
       "      <td>1</td>\n",
       "      <td>0</td>\n",
       "    </tr>\n",
       "    <tr>\n",
       "      <th>2</th>\n",
       "      <td>6700000</td>\n",
       "      <td>650</td>\n",
       "      <td>Kharghar</td>\n",
       "      <td>1</td>\n",
       "      <td>1</td>\n",
       "      <td>1</td>\n",
       "      <td>1</td>\n",
       "      <td>1</td>\n",
       "      <td>1</td>\n",
       "      <td>1</td>\n",
       "      <td>1</td>\n",
       "      <td>1</td>\n",
       "    </tr>\n",
       "    <tr>\n",
       "      <th>3</th>\n",
       "      <td>4500000</td>\n",
       "      <td>650</td>\n",
       "      <td>Kharghar</td>\n",
       "      <td>1</td>\n",
       "      <td>0</td>\n",
       "      <td>1</td>\n",
       "      <td>1</td>\n",
       "      <td>1</td>\n",
       "      <td>1</td>\n",
       "      <td>0</td>\n",
       "      <td>0</td>\n",
       "      <td>1</td>\n",
       "    </tr>\n",
       "    <tr>\n",
       "      <th>4</th>\n",
       "      <td>5000000</td>\n",
       "      <td>665</td>\n",
       "      <td>Kharghar</td>\n",
       "      <td>1</td>\n",
       "      <td>0</td>\n",
       "      <td>1</td>\n",
       "      <td>1</td>\n",
       "      <td>1</td>\n",
       "      <td>1</td>\n",
       "      <td>0</td>\n",
       "      <td>0</td>\n",
       "      <td>1</td>\n",
       "    </tr>\n",
       "  </tbody>\n",
       "</table>\n",
       "</div>"
      ],
      "text/plain": [
       "     Price  Area  Location  No. of Bedrooms  Gymnasium  Lift Available  \\\n",
       "0  4850000   720  Kharghar                1          0               1   \n",
       "1  4500000   600  Kharghar                1          1               1   \n",
       "2  6700000   650  Kharghar                1          1               1   \n",
       "3  4500000   650  Kharghar                1          0               1   \n",
       "4  5000000   665  Kharghar                1          0               1   \n",
       "\n",
       "   Car Parking  Maintenance Staff  24x7 Security  Children's Play Area  \\\n",
       "0            1                  1              1                     0   \n",
       "1            1                  1              1                     0   \n",
       "2            1                  1              1                     1   \n",
       "3            1                  1              1                     0   \n",
       "4            1                  1              1                     0   \n",
       "\n",
       "   Clubhouse  Intercom  \n",
       "0          0         0  \n",
       "1          1         0  \n",
       "2          1         1  \n",
       "3          0         1  \n",
       "4          0         1  "
      ]
     },
     "execution_count": 7,
     "metadata": {},
     "output_type": "execute_result"
    }
   ],
   "source": [
    "df.head()"
   ]
  },
  {
   "cell_type": "code",
   "execution_count": 8,
   "id": "9c80269b",
   "metadata": {},
   "outputs": [
    {
     "data": {
      "text/plain": [
       "(6347, 12)"
      ]
     },
     "execution_count": 8,
     "metadata": {},
     "output_type": "execute_result"
    }
   ],
   "source": [
    "df.shape"
   ]
  },
  {
   "cell_type": "code",
   "execution_count": 9,
   "id": "c1ac1c0a",
   "metadata": {},
   "outputs": [
    {
     "data": {
      "text/plain": [
       "Price                   0\n",
       "Area                    0\n",
       "Location                0\n",
       "No. of Bedrooms         0\n",
       "Gymnasium               0\n",
       "Lift Available          0\n",
       "Car Parking             0\n",
       "Maintenance Staff       0\n",
       "24x7 Security           0\n",
       "Children's Play Area    0\n",
       "Clubhouse               0\n",
       "Intercom                0\n",
       "dtype: int64"
      ]
     },
     "execution_count": 9,
     "metadata": {},
     "output_type": "execute_result"
    }
   ],
   "source": [
    "df.isnull().sum()"
   ]
  },
  {
   "cell_type": "code",
   "execution_count": 10,
   "id": "579ab602",
   "metadata": {},
   "outputs": [
    {
     "data": {
      "text/plain": [
       "array([1, 4, 3, 2, 5, 6, 7], dtype=int64)"
      ]
     },
     "execution_count": 10,
     "metadata": {},
     "output_type": "execute_result"
    }
   ],
   "source": [
    "df['No. of Bedrooms'].unique()"
   ]
  },
  {
   "cell_type": "code",
   "execution_count": 11,
   "id": "010351dc",
   "metadata": {},
   "outputs": [
    {
     "data": {
      "text/plain": [
       "array([ 720,  600,  650, ...,  250, 1162,  435], dtype=int64)"
      ]
     },
     "execution_count": 11,
     "metadata": {},
     "output_type": "execute_result"
    }
   ],
   "source": [
    "df['Area'].unique()"
   ]
  },
  {
   "cell_type": "code",
   "execution_count": 12,
   "id": "e1040b2c",
   "metadata": {},
   "outputs": [],
   "source": [
    "df['Price_per_sqft'] = df['Price']/df['Area']"
   ]
  },
  {
   "cell_type": "code",
   "execution_count": 13,
   "id": "e2602427",
   "metadata": {},
   "outputs": [
    {
     "data": {
      "text/html": [
       "<div>\n",
       "<style scoped>\n",
       "    .dataframe tbody tr th:only-of-type {\n",
       "        vertical-align: middle;\n",
       "    }\n",
       "\n",
       "    .dataframe tbody tr th {\n",
       "        vertical-align: top;\n",
       "    }\n",
       "\n",
       "    .dataframe thead th {\n",
       "        text-align: right;\n",
       "    }\n",
       "</style>\n",
       "<table border=\"1\" class=\"dataframe\">\n",
       "  <thead>\n",
       "    <tr style=\"text-align: right;\">\n",
       "      <th></th>\n",
       "      <th>Price</th>\n",
       "      <th>Area</th>\n",
       "      <th>Location</th>\n",
       "      <th>No. of Bedrooms</th>\n",
       "      <th>Gymnasium</th>\n",
       "      <th>Lift Available</th>\n",
       "      <th>Car Parking</th>\n",
       "      <th>Maintenance Staff</th>\n",
       "      <th>24x7 Security</th>\n",
       "      <th>Children's Play Area</th>\n",
       "      <th>Clubhouse</th>\n",
       "      <th>Intercom</th>\n",
       "      <th>Price_per_sqft</th>\n",
       "    </tr>\n",
       "  </thead>\n",
       "  <tbody>\n",
       "    <tr>\n",
       "      <th>0</th>\n",
       "      <td>4850000</td>\n",
       "      <td>720</td>\n",
       "      <td>Kharghar</td>\n",
       "      <td>1</td>\n",
       "      <td>0</td>\n",
       "      <td>1</td>\n",
       "      <td>1</td>\n",
       "      <td>1</td>\n",
       "      <td>1</td>\n",
       "      <td>0</td>\n",
       "      <td>0</td>\n",
       "      <td>0</td>\n",
       "      <td>6736.111111</td>\n",
       "    </tr>\n",
       "    <tr>\n",
       "      <th>1</th>\n",
       "      <td>4500000</td>\n",
       "      <td>600</td>\n",
       "      <td>Kharghar</td>\n",
       "      <td>1</td>\n",
       "      <td>1</td>\n",
       "      <td>1</td>\n",
       "      <td>1</td>\n",
       "      <td>1</td>\n",
       "      <td>1</td>\n",
       "      <td>0</td>\n",
       "      <td>1</td>\n",
       "      <td>0</td>\n",
       "      <td>7500.000000</td>\n",
       "    </tr>\n",
       "    <tr>\n",
       "      <th>2</th>\n",
       "      <td>6700000</td>\n",
       "      <td>650</td>\n",
       "      <td>Kharghar</td>\n",
       "      <td>1</td>\n",
       "      <td>1</td>\n",
       "      <td>1</td>\n",
       "      <td>1</td>\n",
       "      <td>1</td>\n",
       "      <td>1</td>\n",
       "      <td>1</td>\n",
       "      <td>1</td>\n",
       "      <td>1</td>\n",
       "      <td>10307.692308</td>\n",
       "    </tr>\n",
       "    <tr>\n",
       "      <th>3</th>\n",
       "      <td>4500000</td>\n",
       "      <td>650</td>\n",
       "      <td>Kharghar</td>\n",
       "      <td>1</td>\n",
       "      <td>0</td>\n",
       "      <td>1</td>\n",
       "      <td>1</td>\n",
       "      <td>1</td>\n",
       "      <td>1</td>\n",
       "      <td>0</td>\n",
       "      <td>0</td>\n",
       "      <td>1</td>\n",
       "      <td>6923.076923</td>\n",
       "    </tr>\n",
       "    <tr>\n",
       "      <th>4</th>\n",
       "      <td>5000000</td>\n",
       "      <td>665</td>\n",
       "      <td>Kharghar</td>\n",
       "      <td>1</td>\n",
       "      <td>0</td>\n",
       "      <td>1</td>\n",
       "      <td>1</td>\n",
       "      <td>1</td>\n",
       "      <td>1</td>\n",
       "      <td>0</td>\n",
       "      <td>0</td>\n",
       "      <td>1</td>\n",
       "      <td>7518.796992</td>\n",
       "    </tr>\n",
       "  </tbody>\n",
       "</table>\n",
       "</div>"
      ],
      "text/plain": [
       "     Price  Area  Location  No. of Bedrooms  Gymnasium  Lift Available  \\\n",
       "0  4850000   720  Kharghar                1          0               1   \n",
       "1  4500000   600  Kharghar                1          1               1   \n",
       "2  6700000   650  Kharghar                1          1               1   \n",
       "3  4500000   650  Kharghar                1          0               1   \n",
       "4  5000000   665  Kharghar                1          0               1   \n",
       "\n",
       "   Car Parking  Maintenance Staff  24x7 Security  Children's Play Area  \\\n",
       "0            1                  1              1                     0   \n",
       "1            1                  1              1                     0   \n",
       "2            1                  1              1                     1   \n",
       "3            1                  1              1                     0   \n",
       "4            1                  1              1                     0   \n",
       "\n",
       "   Clubhouse  Intercom  Price_per_sqft  \n",
       "0          0         0     6736.111111  \n",
       "1          1         0     7500.000000  \n",
       "2          1         1    10307.692308  \n",
       "3          0         1     6923.076923  \n",
       "4          0         1     7518.796992  "
      ]
     },
     "execution_count": 13,
     "metadata": {},
     "output_type": "execute_result"
    }
   ],
   "source": [
    "df.head()"
   ]
  },
  {
   "cell_type": "code",
   "execution_count": 14,
   "id": "446d643f",
   "metadata": {},
   "outputs": [
    {
     "data": {
      "text/plain": [
       "array(['Kharghar', 'Sector-13 Kharghar', 'Sector 18 Kharghar',\n",
       "       'Sector 20 Kharghar', 'Sector 15 Kharghar', 'Dombivali',\n",
       "       'Churchgate', 'Prabhadevi', 'Jogeshwari West', 'Kalyan East',\n",
       "       'Malad East', 'Virar East', 'Virar', 'Malad West', 'Borivali East',\n",
       "       'Mira Road East', 'Goregaon West', 'Kandivali West',\n",
       "       'Borivali West', 'Kandivali East', 'Andheri East', 'Goregaon East',\n",
       "       'Wadala', 'Ulwe', 'Dahisar', 'kandivali', 'Goregaon',\n",
       "       'Bhandup West', 'thakur village kandivali east', 'Santacruz West',\n",
       "       'Kanjurmarg', 'I C Colony', 'Dahisar W', 'Marol', 'Parel',\n",
       "       'Lower Parel', 'Worli', 'Jogeshwari East', 'Chembur Shell Colony',\n",
       "       'Central Avenue', 'Chembur East', 'Diamond Market Road', 'Mulund',\n",
       "       'Nalasopara West', 'raheja vihar', 'Powai Lake', 'MHADA Colony 20',\n",
       "       'Tolaram Colony', 'Taloja', 'Thane West', 'Vangani',\n",
       "       'Sector 5 Ulwe', 'Sector12 New Panvel', 'Sector 17 Ulwe',\n",
       "       'Sector9 Kamothe', 'Sector 19 Kharghar', 'Navi Basti',\n",
       "       'Sector12 Kamothe', 'Sector 21 Kamothe', 'Rutu Enclave',\n",
       "       'taloja panchanand', 'Virar West', 'Chembur', 'Sector 20 Kamothe',\n",
       "       'Sector 22 Kamothe', 'Sector 18 Kamothe', 'Sector-5 Kamothe',\n",
       "       'Sector-6A Kamothe', 'Sector 11 Kamothe', 'Sector-18 Ulwe',\n",
       "       'Sector-12 Kamothe', 'azad nagar', 'Sindhi Society Chembur',\n",
       "       'Kurla', 'Sahkar Nagar', 'Deonar', 'Thane', 'Jankalyan Nagar',\n",
       "       'Badlapur', 'Ambarnath', 'Ambernath West', 'Vakola', 'Kamothe',\n",
       "       'Kamothe Sector 16', 'Almeida Park', 'Khar', 'Bandra West',\n",
       "       'Pali Hill', '15th Road', 'Palghar', 'Sector13 Kharghar',\n",
       "       'Sector 21 Kharghar', 'Sector 12 Kharghar', 'Vivek Vidyalaya Marg',\n",
       "       'Vasai east', 'Nahur', 'Badlapur West', 'Panvel', 'Kalyan',\n",
       "       'Badlapur East', 'Mira Bhayandar', 'Juhu', 'Naigaon East',\n",
       "       'Sector 21 Ulwe', 'Bandra East', 'Dronagiri', 'Nerul', 'Karanjade',\n",
       "       'Sanpada', 'Sector-8 Ulwe', 'Sector-3 Ulwe', 'Sector 23 Ulwe',\n",
       "       'ULWE SECTOR 19', 'Ghodbunder Road', 'Bhiwandi', 'Vasai',\n",
       "       'Nala Sopara', 'Dadar East', 'Ghatkopar', 'Breach Candy',\n",
       "       'Worli South Mumbai', 'Asangaon', 'Koparkhairane Station Road',\n",
       "       'Kopar Khairane Sector 19A', 'Koper Khairane',\n",
       "       'Eastern Express Highway Vikhroli', 'Magathane', 'Rawal Pada',\n",
       "       'Ambernath East', 'Dokali Pada', 'Dattapada', 'Rajendra Nagar',\n",
       "       'Kulupwadi', 'Samata Nagar Thakur Village', 'Mira Road and Beyond',\n",
       "       'West Amardeep Colony', 'Pant Nagar', 'mumbai', 'Four Bungalows',\n",
       "       'no 9', 'kolshet', 'Hiranandani Meadows', 'Kalpataru', 'Petali',\n",
       "       'Kharghar Sector 34C', 'Ghatkopar East',\n",
       "       'Mumbai Agra National Highway', 'vasant vihar thane west',\n",
       "       'Kalyan West', 'Shirgaon', 'Pokhran 2', 'juhu tara', 'Peddar Road',\n",
       "       'Palm Beach', 'Sector 10', 'Sector 19 Kamothe', 'Tilak Nagar',\n",
       "       'Ghatkopar West', 'Tardeo', 'Napeansea Road', 'Mahalaxmi',\n",
       "       'Dahisar West', 'Mulund West', 'Natakwala Lane', 'Link Road',\n",
       "       'Devidas Cross Lane', 'Soniwadi Road', 'Haridas Nagar', 'Shimpoli',\n",
       "       'TPS Road', 'Off Shimpoli road', 'Rustomjee Global City',\n",
       "       'Sunil Nagar', 'Sector 30 Kharghar', 'Sector 12 A', 'Sector 18',\n",
       "       'Sector13 Khanda Colony', 'Sector16 Airoli', 'Ranjanpada',\n",
       "       'Sector 15', 'Sector 35G', 'Sector 5', 'Sector 35I Kharghar',\n",
       "       'Sector35D Kharghar', 'Sector34 A Kharghar', 'Sector 30',\n",
       "       'Sector 36 Kharghar', 'Sector 11 Belapur', 'Sector-34B Kharghar',\n",
       "       'Dombivali East', 'Roadpali', 'Sector-50 Seawoods',\n",
       "       'Mumbai Highway', 'Sector 7 Kharghar', 'Lokhandwala Township',\n",
       "       'Andheri', 'Andheri West', 'Shastri Nagar', 'Wadala East Wadala',\n",
       "       'Kalwa', 'PARSIK NAGAR', 'Maharashtra Nagar', 'Patlipada',\n",
       "       'Belapur', 'Seawoods', 'Majiwada', '4 Bunglows', 'Airoli',\n",
       "       'Kolshet Road', 'Sector 10 Khanda Colony', 'Pokharan Road',\n",
       "       'Kharegaon', 'Panch Pakhadi', 'Sector 36 Kamothe',\n",
       "       'Dombivli (West)', 'DN Nagar Road', 'Godrej Hill', 'Ganesh Nagar',\n",
       "       'Haware City', 'Mahatma Gandhi Road', 'Akurli Nagar',\n",
       "       'Kasar vadavali', 'Vasai West', 'Mumbai Nashik Expressway',\n",
       "       'Katrap', 'Mira Road', 'Kasheli',\n",
       "       'Western Express Highway Kandivali East', 'Vasind', 'KASHELI',\n",
       "       'Thakurli', 'Shakti Nagar', 'Bhayandar East', 'Dahisar East',\n",
       "       'ulhasnagar 4', 'Sector-26 Taloja', 'Koproli', 'Mumbai Central',\n",
       "       'Greater Khanda', 'link road borivali west', 'Manpada',\n",
       "       'Sector 2 Ulwe', 'Govind nagar', 'Krishanlal Marwah Marg',\n",
       "       'Sector-9 Ulwe', 'Vikhroli', 'Kalamboli', 'Lokhandwala',\n",
       "       'Patel Nagar', 'Yari Road', 'Thakur complex', 'Khar West',\n",
       "       'Sector 11 Kharghar', 'Ghansoli', 'Sector8 Sanpada',\n",
       "       'Jeejamata Nagar', 'Pandurangwadi', 'Shreyas Colony',\n",
       "       'Kannamwar Nagar II', 'gokuldham', 'Bangur Nagar',\n",
       "       'Shivaji Colony', 'Jawahar Nagar', 'Vedant Complex', 'Titwala',\n",
       "       'Manvel pada Road', 'Govandi', 'Shilphata Road Thane',\n",
       "       'Vasant Vihar', 'Thakur Village', 'Samata nagar', 'Wadi Bandar',\n",
       "       'Kapurbawadi', 'Thane Belapur Road Kalwa', 'Suburbs Mumbai',\n",
       "       'Ramdev Park', 'Sector-35 Kamothe',\n",
       "       'Sector 58A Seawoods Navi Mumbai', 'Diva', 'Borivali',\n",
       "       'Gundavali Gaothan', 'Kondivita Road', 'Koldongri', 'Saki Naka',\n",
       "       'Bhayandar West', 'Versova', 'Hanuman Nagar', 'worli sea face ',\n",
       "       'Sea Face', 'Shiv Sagar Estate', 'Grant Road West', 'Sriprastha',\n",
       "       'Off Nepean Sea Road', 'Morya Nagar', 'Upper Worli',\n",
       "       'worli sea Fase', 'Powai', 'Agripada', 'Sion', 'Girgaon',\n",
       "       'IT Colony', 'Bhayandarpada', 'Sector-24 Kamothe', 'Phase 2',\n",
       "       'Sector 6', 'Malad', 'Haji Ali', 'Majiwada thane', 'Yogi Hills',\n",
       "       'Sector 19 Nerul', 'Owale', 'MG Road', 'roadpali navimumbai',\n",
       "       'Taloja Bypass Nitalas Link Road', 'Rasayani', 'Sector 10 Kamothe',\n",
       "       'kavesar', 'Kopara', 'royal palms goregaon east', 'Dadar West',\n",
       "       'vrindavan society', 'CBD Belapur East', 'Parel Village',\n",
       "       'Karave Nagar', 'Sector 19A Nerul', 'Antop Hill', 'Suman Nagar',\n",
       "       'Bhakti Park', 'Hanuman Chowk', 'Willingdon', 'VishnuNagar',\n",
       "       'Vichumbe', 'Vashi', 'Poonam Sagar Complex', 'Santacruz East',\n",
       "       'Mulund East', 'Sector-8 Sanpada', 'Sector-9 Ghansoli', 'Balkum',\n",
       "       'Hiranandani Estates', 'Vartak Nagar', 'Charkop', 'dhanukarwadi',\n",
       "       'Vazira', 'Four Bunglows', 'Palava',\n",
       "       'Oshiwara Police Station Road', 'Seven Bunglow', 'Poddar Road',\n",
       "       'Gulmohar Road', 'Vile Parle E', 'Pokhran Road No 2',\n",
       "       'Sainath Nagar', 'Kapur Bawdi', 'Manpada near Tiku ji ni wadi',\n",
       "       'Kolshet Industrial Area', 'Sector16 Ulwe',\n",
       "       'Anand Nagar Thane West', 'Charkop Sector 8', 'Vile Parle',\n",
       "       'Marine Lines', 'Bandra Kurla Complex', 'sec 50 new',\n",
       "       'Vakola Pipeline Road', 'Neral', 'Shil Phata', 'Ville Parle East',\n",
       "       'matunga east', 'Dharavi', 'vile parle west', 'Anjurdive', 'Uran',\n",
       "       'Boisar', 'Kanjurmarg East', 'Kurla West', 'Sewri', 'Matunga',\n",
       "       'Goregaon (East)', 'Malabar Hill', 'Ambivali', 'Nalasopara East',\n",
       "       'Vijay Nagar', 'Chedda Nagar', 'Kurla East', 'Kharodi',\n",
       "       'Ville Parle West', 'Vikhroli West', 'Wadala East', 'Palidevad',\n",
       "       'Vikroli East', 'Mahim', 'Khalapur', 'Karjat', 'Vitthalwadi',\n",
       "       'Bhoiwada Kalyan', 'Beturkar Pada', 'Ambivli', 'Nilje Gaon',\n",
       "       'Khopoli', 'Taloje', 'Gulal Wadi', 'Tilak Nagar Mumbai',\n",
       "       'Chandivali', 'Nere', 'Kewale', 'Sector 9 Airoli', 'Diva Gaon',\n",
       "       'Sen Nagar', 'Adaigaon', 'Syndicate', 'Gandhar Nagar', 'Byculla',\n",
       "       'Padle Gaon'], dtype=object)"
      ]
     },
     "execution_count": 14,
     "metadata": {},
     "output_type": "execute_result"
    }
   ],
   "source": [
    "df['Location'].unique()"
   ]
  },
  {
   "cell_type": "code",
   "execution_count": 15,
   "id": "017269da",
   "metadata": {},
   "outputs": [
    {
     "data": {
      "text/plain": [
       "413"
      ]
     },
     "execution_count": 15,
     "metadata": {},
     "output_type": "execute_result"
    }
   ],
   "source": [
    "len(df.Location.unique())"
   ]
  },
  {
   "cell_type": "code",
   "execution_count": 16,
   "id": "a574a287",
   "metadata": {},
   "outputs": [
    {
     "data": {
      "text/plain": [
       "0            Kharghar\n",
       "1            Kharghar\n",
       "2            Kharghar\n",
       "3            Kharghar\n",
       "4            Kharghar\n",
       "            ...      \n",
       "6342         Shirgaon\n",
       "6343       Thane West\n",
       "6344       Thane West\n",
       "6345           Boisar\n",
       "6346    Badlapur East\n",
       "Name: Location, Length: 6347, dtype: object"
      ]
     },
     "execution_count": 16,
     "metadata": {},
     "output_type": "execute_result"
    }
   ],
   "source": [
    "df[\"Location\"].apply(lambda x:x.strip())"
   ]
  },
  {
   "cell_type": "code",
   "execution_count": 17,
   "id": "0e3cdb9d",
   "metadata": {},
   "outputs": [],
   "source": [
    "df[\"Location\"]=df[\"Location\"].apply(lambda x:x.strip())"
   ]
  },
  {
   "cell_type": "code",
   "execution_count": 18,
   "id": "99705d6c",
   "metadata": {},
   "outputs": [
    {
     "data": {
      "text/plain": [
       "array(['Kharghar', 'Sector-13 Kharghar', 'Sector 18 Kharghar',\n",
       "       'Sector 20 Kharghar', 'Sector 15 Kharghar', 'Dombivali',\n",
       "       'Churchgate', 'Prabhadevi', 'Jogeshwari West', 'Kalyan East',\n",
       "       'Malad East', 'Virar East', 'Virar', 'Malad West', 'Borivali East',\n",
       "       'Mira Road East', 'Goregaon West', 'Kandivali West',\n",
       "       'Borivali West', 'Kandivali East', 'Andheri East', 'Goregaon East',\n",
       "       'Wadala', 'Ulwe', 'Dahisar', 'kandivali', 'Goregaon',\n",
       "       'Bhandup West', 'thakur village kandivali east', 'Santacruz West',\n",
       "       'Kanjurmarg', 'I C Colony', 'Dahisar W', 'Marol', 'Parel',\n",
       "       'Lower Parel', 'Worli', 'Jogeshwari East', 'Chembur Shell Colony',\n",
       "       'Central Avenue', 'Chembur East', 'Diamond Market Road', 'Mulund',\n",
       "       'Nalasopara West', 'raheja vihar', 'Powai Lake', 'MHADA Colony 20',\n",
       "       'Tolaram Colony', 'Taloja', 'Thane West', 'Vangani',\n",
       "       'Sector 5 Ulwe', 'Sector12 New Panvel', 'Sector 17 Ulwe',\n",
       "       'Sector9 Kamothe', 'Sector 19 Kharghar', 'Navi Basti',\n",
       "       'Sector12 Kamothe', 'Sector 21 Kamothe', 'Rutu Enclave',\n",
       "       'taloja panchanand', 'Virar West', 'Chembur', 'Sector 20 Kamothe',\n",
       "       'Sector 22 Kamothe', 'Sector 18 Kamothe', 'Sector-5 Kamothe',\n",
       "       'Sector-6A Kamothe', 'Sector 11 Kamothe', 'Sector-18 Ulwe',\n",
       "       'Sector-12 Kamothe', 'azad nagar', 'Sindhi Society Chembur',\n",
       "       'Kurla', 'Sahkar Nagar', 'Deonar', 'Thane', 'Jankalyan Nagar',\n",
       "       'Badlapur', 'Ambarnath', 'Ambernath West', 'Vakola', 'Kamothe',\n",
       "       'Kamothe Sector 16', 'Almeida Park', 'Khar', 'Bandra West',\n",
       "       'Pali Hill', '15th Road', 'Palghar', 'Sector13 Kharghar',\n",
       "       'Sector 21 Kharghar', 'Sector 12 Kharghar', 'Vivek Vidyalaya Marg',\n",
       "       'Vasai east', 'Nahur', 'Badlapur West', 'Panvel', 'Kalyan',\n",
       "       'Badlapur East', 'Mira Bhayandar', 'Juhu', 'Naigaon East',\n",
       "       'Sector 21 Ulwe', 'Bandra East', 'Dronagiri', 'Nerul', 'Karanjade',\n",
       "       'Sanpada', 'Sector-8 Ulwe', 'Sector-3 Ulwe', 'Sector 23 Ulwe',\n",
       "       'ULWE SECTOR 19', 'Ghodbunder Road', 'Bhiwandi', 'Vasai',\n",
       "       'Nala Sopara', 'Dadar East', 'Ghatkopar', 'Breach Candy',\n",
       "       'Worli South Mumbai', 'Asangaon', 'Koparkhairane Station Road',\n",
       "       'Kopar Khairane Sector 19A', 'Koper Khairane',\n",
       "       'Eastern Express Highway Vikhroli', 'Magathane', 'Rawal Pada',\n",
       "       'Ambernath East', 'Dokali Pada', 'Dattapada', 'Rajendra Nagar',\n",
       "       'Kulupwadi', 'Samata Nagar Thakur Village', 'Mira Road and Beyond',\n",
       "       'West Amardeep Colony', 'Pant Nagar', 'mumbai', 'Four Bungalows',\n",
       "       'no 9', 'kolshet', 'Hiranandani Meadows', 'Kalpataru', 'Petali',\n",
       "       'Kharghar Sector 34C', 'Ghatkopar East',\n",
       "       'Mumbai Agra National Highway', 'vasant vihar thane west',\n",
       "       'Kalyan West', 'Shirgaon', 'Pokhran 2', 'juhu tara', 'Peddar Road',\n",
       "       'Palm Beach', 'Sector 10', 'Sector 19 Kamothe', 'Tilak Nagar',\n",
       "       'Ghatkopar West', 'Tardeo', 'Napeansea Road', 'Mahalaxmi',\n",
       "       'Dahisar West', 'Mulund West', 'Natakwala Lane', 'Link Road',\n",
       "       'Devidas Cross Lane', 'Soniwadi Road', 'Haridas Nagar', 'Shimpoli',\n",
       "       'TPS Road', 'Off Shimpoli road', 'Rustomjee Global City',\n",
       "       'Sunil Nagar', 'Sector 30 Kharghar', 'Sector 12 A', 'Sector 18',\n",
       "       'Sector13 Khanda Colony', 'Sector16 Airoli', 'Ranjanpada',\n",
       "       'Sector 15', 'Sector 35G', 'Sector 5', 'Sector 35I Kharghar',\n",
       "       'Sector35D Kharghar', 'Sector34 A Kharghar', 'Sector 30',\n",
       "       'Sector 36 Kharghar', 'Sector 11 Belapur', 'Sector-34B Kharghar',\n",
       "       'Dombivali East', 'Roadpali', 'Sector-50 Seawoods',\n",
       "       'Mumbai Highway', 'Sector 7 Kharghar', 'Lokhandwala Township',\n",
       "       'Andheri', 'Andheri West', 'Shastri Nagar', 'Wadala East Wadala',\n",
       "       'Kalwa', 'PARSIK NAGAR', 'Maharashtra Nagar', 'Patlipada',\n",
       "       'Belapur', 'Seawoods', 'Majiwada', '4 Bunglows', 'Airoli',\n",
       "       'Kolshet Road', 'Sector 10 Khanda Colony', 'Pokharan Road',\n",
       "       'Kharegaon', 'Panch Pakhadi', 'Sector 36 Kamothe',\n",
       "       'Dombivli (West)', 'DN Nagar Road', 'Godrej Hill', 'Ganesh Nagar',\n",
       "       'Haware City', 'Mahatma Gandhi Road', 'Akurli Nagar',\n",
       "       'Kasar vadavali', 'Vasai West', 'Mumbai Nashik Expressway',\n",
       "       'Katrap', 'Mira Road', 'Kasheli',\n",
       "       'Western Express Highway Kandivali East', 'Vasind', 'KASHELI',\n",
       "       'Thakurli', 'Shakti Nagar', 'Bhayandar East', 'Dahisar East',\n",
       "       'ulhasnagar 4', 'Sector-26 Taloja', 'Koproli', 'Mumbai Central',\n",
       "       'Greater Khanda', 'link road borivali west', 'Manpada',\n",
       "       'Sector 2 Ulwe', 'Govind nagar', 'Krishanlal Marwah Marg',\n",
       "       'Sector-9 Ulwe', 'Vikhroli', 'Kalamboli', 'Lokhandwala',\n",
       "       'Patel Nagar', 'Yari Road', 'Thakur complex', 'Khar West',\n",
       "       'Sector 11 Kharghar', 'Ghansoli', 'Sector8 Sanpada',\n",
       "       'Jeejamata Nagar', 'Pandurangwadi', 'Shreyas Colony',\n",
       "       'Kannamwar Nagar II', 'gokuldham', 'Bangur Nagar',\n",
       "       'Shivaji Colony', 'Jawahar Nagar', 'Vedant Complex', 'Titwala',\n",
       "       'Manvel pada Road', 'Govandi', 'Shilphata Road Thane',\n",
       "       'Vasant Vihar', 'Thakur Village', 'Samata nagar', 'Wadi Bandar',\n",
       "       'Kapurbawadi', 'Thane Belapur Road Kalwa', 'Suburbs Mumbai',\n",
       "       'Ramdev Park', 'Sector-35 Kamothe',\n",
       "       'Sector 58A Seawoods Navi Mumbai', 'Diva', 'Borivali',\n",
       "       'Gundavali Gaothan', 'Kondivita Road', 'Koldongri', 'Saki Naka',\n",
       "       'Bhayandar West', 'Versova', 'Hanuman Nagar', 'worli sea face',\n",
       "       'Sea Face', 'Shiv Sagar Estate', 'Grant Road West', 'Sriprastha',\n",
       "       'Off Nepean Sea Road', 'Morya Nagar', 'Upper Worli',\n",
       "       'worli sea Fase', 'Powai', 'Agripada', 'Sion', 'Girgaon',\n",
       "       'IT Colony', 'Bhayandarpada', 'Sector-24 Kamothe', 'Phase 2',\n",
       "       'Sector 6', 'Malad', 'Haji Ali', 'Majiwada thane', 'Yogi Hills',\n",
       "       'Sector 19 Nerul', 'Owale', 'MG Road', 'roadpali navimumbai',\n",
       "       'Taloja Bypass Nitalas Link Road', 'Rasayani', 'Sector 10 Kamothe',\n",
       "       'kavesar', 'Kopara', 'royal palms goregaon east', 'Dadar West',\n",
       "       'vrindavan society', 'CBD Belapur East', 'Parel Village',\n",
       "       'Karave Nagar', 'Sector 19A Nerul', 'Antop Hill', 'Suman Nagar',\n",
       "       'Bhakti Park', 'Hanuman Chowk', 'Willingdon', 'VishnuNagar',\n",
       "       'Vichumbe', 'Vashi', 'Poonam Sagar Complex', 'Santacruz East',\n",
       "       'Mulund East', 'Sector-8 Sanpada', 'Sector-9 Ghansoli', 'Balkum',\n",
       "       'Hiranandani Estates', 'Vartak Nagar', 'Charkop', 'dhanukarwadi',\n",
       "       'Vazira', 'Four Bunglows', 'Palava',\n",
       "       'Oshiwara Police Station Road', 'Seven Bunglow', 'Poddar Road',\n",
       "       'Gulmohar Road', 'Vile Parle E', 'Pokhran Road No 2',\n",
       "       'Sainath Nagar', 'Kapur Bawdi', 'Manpada near Tiku ji ni wadi',\n",
       "       'Kolshet Industrial Area', 'Sector16 Ulwe',\n",
       "       'Anand Nagar Thane West', 'Charkop Sector 8', 'Vile Parle',\n",
       "       'Marine Lines', 'Bandra Kurla Complex', 'sec 50 new',\n",
       "       'Vakola Pipeline Road', 'Neral', 'Shil Phata', 'Ville Parle East',\n",
       "       'matunga east', 'Dharavi', 'vile parle west', 'Anjurdive', 'Uran',\n",
       "       'Boisar', 'Kanjurmarg East', 'Kurla West', 'Sewri', 'Matunga',\n",
       "       'Goregaon (East)', 'Malabar Hill', 'Ambivali', 'Nalasopara East',\n",
       "       'Vijay Nagar', 'Chedda Nagar', 'Kurla East', 'Kharodi',\n",
       "       'Ville Parle West', 'Vikhroli West', 'Wadala East', 'Palidevad',\n",
       "       'Vikroli East', 'Mahim', 'Khalapur', 'Karjat', 'Vitthalwadi',\n",
       "       'Bhoiwada Kalyan', 'Beturkar Pada', 'Ambivli', 'Nilje Gaon',\n",
       "       'Khopoli', 'Taloje', 'Gulal Wadi', 'Tilak Nagar Mumbai',\n",
       "       'Chandivali', 'Nere', 'Kewale', 'Sector 9 Airoli', 'Diva Gaon',\n",
       "       'Sen Nagar', 'Adaigaon', 'Syndicate', 'Gandhar Nagar', 'Byculla',\n",
       "       'Padle Gaon'], dtype=object)"
      ]
     },
     "execution_count": 18,
     "metadata": {},
     "output_type": "execute_result"
    }
   ],
   "source": [
    "df[\"Location\"].unique()"
   ]
  },
  {
   "cell_type": "code",
   "execution_count": 19,
   "id": "65a79692",
   "metadata": {},
   "outputs": [
    {
     "data": {
      "text/plain": [
       "Location\n",
       "Kharghar                533\n",
       "Thane West              418\n",
       "Mira Road East          390\n",
       "Ulwe                    319\n",
       "Borivali West           176\n",
       "                       ... \n",
       "Pokhran Road No 2         1\n",
       "Poonam Sagar Complex      1\n",
       "Ramdev Park               1\n",
       "Ranjanpada                1\n",
       "worli sea face            1\n",
       "Name: Location, Length: 413, dtype: int64"
      ]
     },
     "execution_count": 19,
     "metadata": {},
     "output_type": "execute_result"
    }
   ],
   "source": [
    "location_stats = df.groupby('Location')['Location'].agg('count').sort_values(ascending=False)\n",
    "location_stats"
   ]
  },
  {
   "cell_type": "code",
   "execution_count": 20,
   "id": "44a919a3",
   "metadata": {},
   "outputs": [
    {
     "data": {
      "text/plain": [
       "284"
      ]
     },
     "execution_count": 20,
     "metadata": {},
     "output_type": "execute_result"
    }
   ],
   "source": [
    "len(location_stats[location_stats<=5])"
   ]
  },
  {
   "cell_type": "code",
   "execution_count": 21,
   "id": "ca39e40c",
   "metadata": {},
   "outputs": [
    {
     "name": "stdout",
     "output_type": "stream",
     "text": [
      "Location\n",
      "Mumbai Highway          5\n",
      "CBD Belapur East        5\n",
      "Central Avenue          5\n",
      "Tardeo                  5\n",
      "Majiwada thane          5\n",
      "                       ..\n",
      "Pokhran Road No 2       1\n",
      "Poonam Sagar Complex    1\n",
      "Ramdev Park             1\n",
      "Ranjanpada              1\n",
      "worli sea face          1\n",
      "Name: Location, Length: 284, dtype: int64\n"
     ]
    }
   ],
   "source": [
    "locations_Under_5 = location_stats[location_stats<=5]\n",
    "print(locations_Under_5)"
   ]
  },
  {
   "cell_type": "code",
   "execution_count": 22,
   "id": "f516f3c2",
   "metadata": {},
   "outputs": [
    {
     "data": {
      "text/plain": [
       "130"
      ]
     },
     "execution_count": 22,
     "metadata": {},
     "output_type": "execute_result"
    }
   ],
   "source": [
    "df.Location = df.Location.apply(lambda x:'other' if x in locations_Under_5 else x)\n",
    "len(df.Location.unique())"
   ]
  },
  {
   "cell_type": "code",
   "execution_count": 23,
   "id": "f1fdda74",
   "metadata": {},
   "outputs": [],
   "source": [
    "df.rename(\n",
    "    columns=({ 'No. of Bedrooms': 'bhk','Lift Available':'Lift','Car Parking':'Car','24x7 Security':'Security'}), \n",
    "    inplace=True,\n",
    ")"
   ]
  },
  {
   "cell_type": "code",
   "execution_count": 24,
   "id": "31706d00",
   "metadata": {},
   "outputs": [
    {
     "data": {
      "text/html": [
       "<div>\n",
       "<style scoped>\n",
       "    .dataframe tbody tr th:only-of-type {\n",
       "        vertical-align: middle;\n",
       "    }\n",
       "\n",
       "    .dataframe tbody tr th {\n",
       "        vertical-align: top;\n",
       "    }\n",
       "\n",
       "    .dataframe thead th {\n",
       "        text-align: right;\n",
       "    }\n",
       "</style>\n",
       "<table border=\"1\" class=\"dataframe\">\n",
       "  <thead>\n",
       "    <tr style=\"text-align: right;\">\n",
       "      <th></th>\n",
       "      <th>Price</th>\n",
       "      <th>Area</th>\n",
       "      <th>Location</th>\n",
       "      <th>bhk</th>\n",
       "      <th>Gymnasium</th>\n",
       "      <th>Lift</th>\n",
       "      <th>Car</th>\n",
       "      <th>Maintenance Staff</th>\n",
       "      <th>Security</th>\n",
       "      <th>Children's Play Area</th>\n",
       "      <th>Clubhouse</th>\n",
       "      <th>Intercom</th>\n",
       "      <th>Price_per_sqft</th>\n",
       "    </tr>\n",
       "  </thead>\n",
       "  <tbody>\n",
       "    <tr>\n",
       "      <th>0</th>\n",
       "      <td>4850000</td>\n",
       "      <td>720</td>\n",
       "      <td>Kharghar</td>\n",
       "      <td>1</td>\n",
       "      <td>0</td>\n",
       "      <td>1</td>\n",
       "      <td>1</td>\n",
       "      <td>1</td>\n",
       "      <td>1</td>\n",
       "      <td>0</td>\n",
       "      <td>0</td>\n",
       "      <td>0</td>\n",
       "      <td>6736.111111</td>\n",
       "    </tr>\n",
       "    <tr>\n",
       "      <th>1</th>\n",
       "      <td>4500000</td>\n",
       "      <td>600</td>\n",
       "      <td>Kharghar</td>\n",
       "      <td>1</td>\n",
       "      <td>1</td>\n",
       "      <td>1</td>\n",
       "      <td>1</td>\n",
       "      <td>1</td>\n",
       "      <td>1</td>\n",
       "      <td>0</td>\n",
       "      <td>1</td>\n",
       "      <td>0</td>\n",
       "      <td>7500.000000</td>\n",
       "    </tr>\n",
       "    <tr>\n",
       "      <th>2</th>\n",
       "      <td>6700000</td>\n",
       "      <td>650</td>\n",
       "      <td>Kharghar</td>\n",
       "      <td>1</td>\n",
       "      <td>1</td>\n",
       "      <td>1</td>\n",
       "      <td>1</td>\n",
       "      <td>1</td>\n",
       "      <td>1</td>\n",
       "      <td>1</td>\n",
       "      <td>1</td>\n",
       "      <td>1</td>\n",
       "      <td>10307.692308</td>\n",
       "    </tr>\n",
       "    <tr>\n",
       "      <th>3</th>\n",
       "      <td>4500000</td>\n",
       "      <td>650</td>\n",
       "      <td>Kharghar</td>\n",
       "      <td>1</td>\n",
       "      <td>0</td>\n",
       "      <td>1</td>\n",
       "      <td>1</td>\n",
       "      <td>1</td>\n",
       "      <td>1</td>\n",
       "      <td>0</td>\n",
       "      <td>0</td>\n",
       "      <td>1</td>\n",
       "      <td>6923.076923</td>\n",
       "    </tr>\n",
       "    <tr>\n",
       "      <th>4</th>\n",
       "      <td>5000000</td>\n",
       "      <td>665</td>\n",
       "      <td>Kharghar</td>\n",
       "      <td>1</td>\n",
       "      <td>0</td>\n",
       "      <td>1</td>\n",
       "      <td>1</td>\n",
       "      <td>1</td>\n",
       "      <td>1</td>\n",
       "      <td>0</td>\n",
       "      <td>0</td>\n",
       "      <td>1</td>\n",
       "      <td>7518.796992</td>\n",
       "    </tr>\n",
       "  </tbody>\n",
       "</table>\n",
       "</div>"
      ],
      "text/plain": [
       "     Price  Area  Location  bhk  Gymnasium  Lift  Car  Maintenance Staff  \\\n",
       "0  4850000   720  Kharghar    1          0     1    1                  1   \n",
       "1  4500000   600  Kharghar    1          1     1    1                  1   \n",
       "2  6700000   650  Kharghar    1          1     1    1                  1   \n",
       "3  4500000   650  Kharghar    1          0     1    1                  1   \n",
       "4  5000000   665  Kharghar    1          0     1    1                  1   \n",
       "\n",
       "   Security  Children's Play Area  Clubhouse  Intercom  Price_per_sqft  \n",
       "0         1                     0          0         0     6736.111111  \n",
       "1         1                     0          1         0     7500.000000  \n",
       "2         1                     1          1         1    10307.692308  \n",
       "3         1                     0          0         1     6923.076923  \n",
       "4         1                     0          0         1     7518.796992  "
      ]
     },
     "execution_count": 24,
     "metadata": {},
     "output_type": "execute_result"
    }
   ],
   "source": [
    "df.head()"
   ]
  },
  {
   "cell_type": "code",
   "execution_count": 25,
   "id": "174dd77a",
   "metadata": {},
   "outputs": [
    {
     "data": {
      "text/html": [
       "<div>\n",
       "<style scoped>\n",
       "    .dataframe tbody tr th:only-of-type {\n",
       "        vertical-align: middle;\n",
       "    }\n",
       "\n",
       "    .dataframe tbody tr th {\n",
       "        vertical-align: top;\n",
       "    }\n",
       "\n",
       "    .dataframe thead th {\n",
       "        text-align: right;\n",
       "    }\n",
       "</style>\n",
       "<table border=\"1\" class=\"dataframe\">\n",
       "  <thead>\n",
       "    <tr style=\"text-align: right;\">\n",
       "      <th></th>\n",
       "      <th>Price</th>\n",
       "      <th>Area</th>\n",
       "      <th>bhk</th>\n",
       "      <th>Gymnasium</th>\n",
       "      <th>Lift</th>\n",
       "      <th>Car</th>\n",
       "      <th>Maintenance Staff</th>\n",
       "      <th>Security</th>\n",
       "      <th>Children's Play Area</th>\n",
       "      <th>Clubhouse</th>\n",
       "      <th>Intercom</th>\n",
       "      <th>Price_per_sqft</th>\n",
       "    </tr>\n",
       "  </thead>\n",
       "  <tbody>\n",
       "    <tr>\n",
       "      <th>count</th>\n",
       "      <td>6.347000e+03</td>\n",
       "      <td>6347.000000</td>\n",
       "      <td>6347.000000</td>\n",
       "      <td>6347.000000</td>\n",
       "      <td>6347.000000</td>\n",
       "      <td>6347.000000</td>\n",
       "      <td>6347.000000</td>\n",
       "      <td>6347.000000</td>\n",
       "      <td>6347.000000</td>\n",
       "      <td>6347.000000</td>\n",
       "      <td>6347.000000</td>\n",
       "      <td>6347.000000</td>\n",
       "    </tr>\n",
       "    <tr>\n",
       "      <th>mean</th>\n",
       "      <td>1.515401e+07</td>\n",
       "      <td>1004.327084</td>\n",
       "      <td>1.910036</td>\n",
       "      <td>0.581377</td>\n",
       "      <td>0.801481</td>\n",
       "      <td>0.562943</td>\n",
       "      <td>0.281393</td>\n",
       "      <td>0.562943</td>\n",
       "      <td>0.559319</td>\n",
       "      <td>0.496297</td>\n",
       "      <td>0.484796</td>\n",
       "      <td>13555.465839</td>\n",
       "    </tr>\n",
       "    <tr>\n",
       "      <th>std</th>\n",
       "      <td>2.015943e+07</td>\n",
       "      <td>556.375703</td>\n",
       "      <td>0.863304</td>\n",
       "      <td>0.493372</td>\n",
       "      <td>0.398916</td>\n",
       "      <td>0.496061</td>\n",
       "      <td>0.449714</td>\n",
       "      <td>0.496061</td>\n",
       "      <td>0.496508</td>\n",
       "      <td>0.500026</td>\n",
       "      <td>0.499808</td>\n",
       "      <td>9573.921483</td>\n",
       "    </tr>\n",
       "    <tr>\n",
       "      <th>min</th>\n",
       "      <td>2.000000e+06</td>\n",
       "      <td>200.000000</td>\n",
       "      <td>1.000000</td>\n",
       "      <td>0.000000</td>\n",
       "      <td>0.000000</td>\n",
       "      <td>0.000000</td>\n",
       "      <td>0.000000</td>\n",
       "      <td>0.000000</td>\n",
       "      <td>0.000000</td>\n",
       "      <td>0.000000</td>\n",
       "      <td>0.000000</td>\n",
       "      <td>1597.444089</td>\n",
       "    </tr>\n",
       "    <tr>\n",
       "      <th>25%</th>\n",
       "      <td>5.300000e+06</td>\n",
       "      <td>650.000000</td>\n",
       "      <td>1.000000</td>\n",
       "      <td>0.000000</td>\n",
       "      <td>1.000000</td>\n",
       "      <td>0.000000</td>\n",
       "      <td>0.000000</td>\n",
       "      <td>0.000000</td>\n",
       "      <td>0.000000</td>\n",
       "      <td>0.000000</td>\n",
       "      <td>0.000000</td>\n",
       "      <td>7234.042553</td>\n",
       "    </tr>\n",
       "    <tr>\n",
       "      <th>50%</th>\n",
       "      <td>9.500000e+06</td>\n",
       "      <td>905.000000</td>\n",
       "      <td>2.000000</td>\n",
       "      <td>1.000000</td>\n",
       "      <td>1.000000</td>\n",
       "      <td>1.000000</td>\n",
       "      <td>0.000000</td>\n",
       "      <td>1.000000</td>\n",
       "      <td>1.000000</td>\n",
       "      <td>0.000000</td>\n",
       "      <td>0.000000</td>\n",
       "      <td>10493.827160</td>\n",
       "    </tr>\n",
       "    <tr>\n",
       "      <th>75%</th>\n",
       "      <td>1.750000e+07</td>\n",
       "      <td>1182.000000</td>\n",
       "      <td>2.000000</td>\n",
       "      <td>1.000000</td>\n",
       "      <td>1.000000</td>\n",
       "      <td>1.000000</td>\n",
       "      <td>1.000000</td>\n",
       "      <td>1.000000</td>\n",
       "      <td>1.000000</td>\n",
       "      <td>1.000000</td>\n",
       "      <td>1.000000</td>\n",
       "      <td>17142.857143</td>\n",
       "    </tr>\n",
       "    <tr>\n",
       "      <th>max</th>\n",
       "      <td>4.200000e+08</td>\n",
       "      <td>8511.000000</td>\n",
       "      <td>7.000000</td>\n",
       "      <td>1.000000</td>\n",
       "      <td>1.000000</td>\n",
       "      <td>1.000000</td>\n",
       "      <td>1.000000</td>\n",
       "      <td>1.000000</td>\n",
       "      <td>1.000000</td>\n",
       "      <td>1.000000</td>\n",
       "      <td>1.000000</td>\n",
       "      <td>109950.522265</td>\n",
       "    </tr>\n",
       "  </tbody>\n",
       "</table>\n",
       "</div>"
      ],
      "text/plain": [
       "              Price         Area          bhk    Gymnasium         Lift  \\\n",
       "count  6.347000e+03  6347.000000  6347.000000  6347.000000  6347.000000   \n",
       "mean   1.515401e+07  1004.327084     1.910036     0.581377     0.801481   \n",
       "std    2.015943e+07   556.375703     0.863304     0.493372     0.398916   \n",
       "min    2.000000e+06   200.000000     1.000000     0.000000     0.000000   \n",
       "25%    5.300000e+06   650.000000     1.000000     0.000000     1.000000   \n",
       "50%    9.500000e+06   905.000000     2.000000     1.000000     1.000000   \n",
       "75%    1.750000e+07  1182.000000     2.000000     1.000000     1.000000   \n",
       "max    4.200000e+08  8511.000000     7.000000     1.000000     1.000000   \n",
       "\n",
       "               Car  Maintenance Staff     Security  Children's Play Area  \\\n",
       "count  6347.000000        6347.000000  6347.000000           6347.000000   \n",
       "mean      0.562943           0.281393     0.562943              0.559319   \n",
       "std       0.496061           0.449714     0.496061              0.496508   \n",
       "min       0.000000           0.000000     0.000000              0.000000   \n",
       "25%       0.000000           0.000000     0.000000              0.000000   \n",
       "50%       1.000000           0.000000     1.000000              1.000000   \n",
       "75%       1.000000           1.000000     1.000000              1.000000   \n",
       "max       1.000000           1.000000     1.000000              1.000000   \n",
       "\n",
       "         Clubhouse     Intercom  Price_per_sqft  \n",
       "count  6347.000000  6347.000000     6347.000000  \n",
       "mean      0.496297     0.484796    13555.465839  \n",
       "std       0.500026     0.499808     9573.921483  \n",
       "min       0.000000     0.000000     1597.444089  \n",
       "25%       0.000000     0.000000     7234.042553  \n",
       "50%       0.000000     0.000000    10493.827160  \n",
       "75%       1.000000     1.000000    17142.857143  \n",
       "max       1.000000     1.000000   109950.522265  "
      ]
     },
     "execution_count": 25,
     "metadata": {},
     "output_type": "execute_result"
    }
   ],
   "source": [
    "df.describe()"
   ]
  },
  {
   "cell_type": "code",
   "execution_count": 26,
   "id": "5b7eba34",
   "metadata": {},
   "outputs": [],
   "source": [
    "# Checking for outliers"
   ]
  },
  {
   "cell_type": "code",
   "execution_count": 27,
   "id": "60fb17bd",
   "metadata": {},
   "outputs": [
    {
     "data": {
      "text/html": [
       "<div>\n",
       "<style scoped>\n",
       "    .dataframe tbody tr th:only-of-type {\n",
       "        vertical-align: middle;\n",
       "    }\n",
       "\n",
       "    .dataframe tbody tr th {\n",
       "        vertical-align: top;\n",
       "    }\n",
       "\n",
       "    .dataframe thead th {\n",
       "        text-align: right;\n",
       "    }\n",
       "</style>\n",
       "<table border=\"1\" class=\"dataframe\">\n",
       "  <thead>\n",
       "    <tr style=\"text-align: right;\">\n",
       "      <th></th>\n",
       "      <th>Price</th>\n",
       "      <th>Area</th>\n",
       "      <th>Location</th>\n",
       "      <th>bhk</th>\n",
       "      <th>Gymnasium</th>\n",
       "      <th>Lift</th>\n",
       "      <th>Car</th>\n",
       "      <th>Maintenance Staff</th>\n",
       "      <th>Security</th>\n",
       "      <th>Children's Play Area</th>\n",
       "      <th>Clubhouse</th>\n",
       "      <th>Intercom</th>\n",
       "      <th>Price_per_sqft</th>\n",
       "    </tr>\n",
       "  </thead>\n",
       "  <tbody>\n",
       "    <tr>\n",
       "      <th>4573</th>\n",
       "      <td>9370000</td>\n",
       "      <td>583</td>\n",
       "      <td>Mira Road East</td>\n",
       "      <td>3</td>\n",
       "      <td>1</td>\n",
       "      <td>1</td>\n",
       "      <td>1</td>\n",
       "      <td>0</td>\n",
       "      <td>1</td>\n",
       "      <td>1</td>\n",
       "      <td>1</td>\n",
       "      <td>1</td>\n",
       "      <td>16072.041166</td>\n",
       "    </tr>\n",
       "    <tr>\n",
       "      <th>6138</th>\n",
       "      <td>9500000</td>\n",
       "      <td>583</td>\n",
       "      <td>Mira Road East</td>\n",
       "      <td>3</td>\n",
       "      <td>1</td>\n",
       "      <td>1</td>\n",
       "      <td>1</td>\n",
       "      <td>0</td>\n",
       "      <td>1</td>\n",
       "      <td>1</td>\n",
       "      <td>1</td>\n",
       "      <td>1</td>\n",
       "      <td>16295.025729</td>\n",
       "    </tr>\n",
       "  </tbody>\n",
       "</table>\n",
       "</div>"
      ],
      "text/plain": [
       "        Price  Area        Location  bhk  Gymnasium  Lift  Car  \\\n",
       "4573  9370000   583  Mira Road East    3          1     1    1   \n",
       "6138  9500000   583  Mira Road East    3          1     1    1   \n",
       "\n",
       "      Maintenance Staff  Security  Children's Play Area  Clubhouse  Intercom  \\\n",
       "4573                  0         1                     1          1         1   \n",
       "6138                  0         1                     1          1         1   \n",
       "\n",
       "      Price_per_sqft  \n",
       "4573    16072.041166  \n",
       "6138    16295.025729  "
      ]
     },
     "execution_count": 27,
     "metadata": {},
     "output_type": "execute_result"
    }
   ],
   "source": [
    "df[df.Area/df.bhk<200]"
   ]
  },
  {
   "cell_type": "code",
   "execution_count": 28,
   "id": "b77bb626",
   "metadata": {},
   "outputs": [
    {
     "data": {
      "text/html": [
       "<div>\n",
       "<style scoped>\n",
       "    .dataframe tbody tr th:only-of-type {\n",
       "        vertical-align: middle;\n",
       "    }\n",
       "\n",
       "    .dataframe tbody tr th {\n",
       "        vertical-align: top;\n",
       "    }\n",
       "\n",
       "    .dataframe thead th {\n",
       "        text-align: right;\n",
       "    }\n",
       "</style>\n",
       "<table border=\"1\" class=\"dataframe\">\n",
       "  <thead>\n",
       "    <tr style=\"text-align: right;\">\n",
       "      <th></th>\n",
       "      <th>Price</th>\n",
       "      <th>Area</th>\n",
       "      <th>Location</th>\n",
       "      <th>bhk</th>\n",
       "      <th>Gymnasium</th>\n",
       "      <th>Lift</th>\n",
       "      <th>Car</th>\n",
       "      <th>Maintenance Staff</th>\n",
       "      <th>Security</th>\n",
       "      <th>Children's Play Area</th>\n",
       "      <th>Clubhouse</th>\n",
       "      <th>Intercom</th>\n",
       "      <th>Price_per_sqft</th>\n",
       "    </tr>\n",
       "  </thead>\n",
       "  <tbody>\n",
       "    <tr>\n",
       "      <th>4573</th>\n",
       "      <td>9370000</td>\n",
       "      <td>583</td>\n",
       "      <td>Mira Road East</td>\n",
       "      <td>3</td>\n",
       "      <td>1</td>\n",
       "      <td>1</td>\n",
       "      <td>1</td>\n",
       "      <td>0</td>\n",
       "      <td>1</td>\n",
       "      <td>1</td>\n",
       "      <td>1</td>\n",
       "      <td>1</td>\n",
       "      <td>16072.041166</td>\n",
       "    </tr>\n",
       "    <tr>\n",
       "      <th>6138</th>\n",
       "      <td>9500000</td>\n",
       "      <td>583</td>\n",
       "      <td>Mira Road East</td>\n",
       "      <td>3</td>\n",
       "      <td>1</td>\n",
       "      <td>1</td>\n",
       "      <td>1</td>\n",
       "      <td>0</td>\n",
       "      <td>1</td>\n",
       "      <td>1</td>\n",
       "      <td>1</td>\n",
       "      <td>1</td>\n",
       "      <td>16295.025729</td>\n",
       "    </tr>\n",
       "  </tbody>\n",
       "</table>\n",
       "</div>"
      ],
      "text/plain": [
       "        Price  Area        Location  bhk  Gymnasium  Lift  Car  \\\n",
       "4573  9370000   583  Mira Road East    3          1     1    1   \n",
       "6138  9500000   583  Mira Road East    3          1     1    1   \n",
       "\n",
       "      Maintenance Staff  Security  Children's Play Area  Clubhouse  Intercom  \\\n",
       "4573                  0         1                     1          1         1   \n",
       "6138                  0         1                     1          1         1   \n",
       "\n",
       "      Price_per_sqft  \n",
       "4573    16072.041166  \n",
       "6138    16295.025729  "
      ]
     },
     "execution_count": 28,
     "metadata": {},
     "output_type": "execute_result"
    }
   ],
   "source": [
    "df[df.Area/df.bhk<200].head()"
   ]
  },
  {
   "cell_type": "code",
   "execution_count": 29,
   "id": "31ec13a4",
   "metadata": {},
   "outputs": [
    {
     "data": {
      "text/plain": [
       "(6347, 13)"
      ]
     },
     "execution_count": 29,
     "metadata": {},
     "output_type": "execute_result"
    }
   ],
   "source": [
    "df.shape"
   ]
  },
  {
   "cell_type": "code",
   "execution_count": 30,
   "id": "844146fa",
   "metadata": {},
   "outputs": [
    {
     "data": {
      "text/plain": [
       "(6345, 13)"
      ]
     },
     "execution_count": 30,
     "metadata": {},
     "output_type": "execute_result"
    }
   ],
   "source": [
    "df = df[~(df.Area/df.bhk<200)]\n",
    "df.shape"
   ]
  },
  {
   "cell_type": "code",
   "execution_count": 31,
   "id": "24fb56fd",
   "metadata": {},
   "outputs": [],
   "source": [
    "def removeOutliners(df):\n",
    "    # Finding the mean and standard deviation based on location\n",
    "    # Filtering the data which lies in 1st standard deviation to the left and right and dropping others\n",
    "    # storing it in gen_df and concating that in df_output \n",
    "  df_Out = pd.DataFrame()\n",
    "  for key,subdf in df.groupby('Location'):\n",
    "    m = np.mean(subdf.Price_per_sqft)\n",
    "    st = np.std(subdf.Price_per_sqft)\n",
    "    reduced = subdf[(subdf.Price_per_sqft>(m-st)) & (subdf.Price_per_sqft<=(m+st))]\n",
    "    df_Out = pd.concat([df_Out,reduced],ignore_index=True)\n",
    "  return df_Out"
   ]
  },
  {
   "cell_type": "code",
   "execution_count": 32,
   "id": "da9e3f04",
   "metadata": {},
   "outputs": [
    {
     "data": {
      "text/plain": [
       "(4869, 13)"
      ]
     },
     "execution_count": 32,
     "metadata": {},
     "output_type": "execute_result"
    }
   ],
   "source": [
    "df = removeOutliners(df)\n",
    "df.shape"
   ]
  },
  {
   "cell_type": "code",
   "execution_count": 33,
   "id": "accf997a",
   "metadata": {},
   "outputs": [
    {
     "data": {
      "text/plain": [
       "<bound method Series.unique of 0                  Airoli\n",
       "1                  Airoli\n",
       "2                  Airoli\n",
       "3                  Airoli\n",
       "4                  Airoli\n",
       "              ...        \n",
       "4864    taloja panchanand\n",
       "4865      vile parle west\n",
       "4866      vile parle west\n",
       "4867      vile parle west\n",
       "4868      vile parle west\n",
       "Name: Location, Length: 4869, dtype: object>"
      ]
     },
     "execution_count": 33,
     "metadata": {},
     "output_type": "execute_result"
    }
   ],
   "source": [
    "df.Location.unique"
   ]
  },
  {
   "cell_type": "code",
   "execution_count": 34,
   "id": "3046f37e",
   "metadata": {},
   "outputs": [],
   "source": [
    "df.to_csv(\"data.csv\",index=False)"
   ]
  },
  {
   "cell_type": "code",
   "execution_count": 35,
   "id": "185b8ff4",
   "metadata": {},
   "outputs": [],
   "source": [
    "labels_ordered=df.groupby([\"Location\"])['Price'].mean().sort_values().index"
   ]
  },
  {
   "cell_type": "code",
   "execution_count": 36,
   "id": "11f6e1fb",
   "metadata": {},
   "outputs": [],
   "source": [
    "labels_ordered={k:i for i,k in enumerate(labels_ordered,0)}"
   ]
  },
  {
   "cell_type": "code",
   "execution_count": 79,
   "id": "5e9c8cc8",
   "metadata": {},
   "outputs": [],
   "source": [
    "# Store data (serialize)\n",
    "with open('label.pickle', 'wb') as handle:\n",
    "    pickle.dump(labels_ordered, handle, protocol=pickle.HIGHEST_PROTOCOL)\n",
    "\n",
    "# Load data (deserialize)\n",
    "with open('label.pickle', 'rb') as handle:\n",
    "    unserialized_data = pickle.load(handle)\n"
   ]
  },
  {
   "cell_type": "code",
   "execution_count": 37,
   "id": "33fe7f8b",
   "metadata": {},
   "outputs": [],
   "source": [
    "df[\"Location\"]=df[\"Location\"].map(labels_ordered)"
   ]
  },
  {
   "cell_type": "code",
   "execution_count": 38,
   "id": "5e33fa87",
   "metadata": {},
   "outputs": [],
   "source": [
    "X = df.drop('Price',axis='columns')\n",
    "y=df[\"Price\"]"
   ]
  },
  {
   "cell_type": "code",
   "execution_count": 39,
   "id": "b1a7f2b2",
   "metadata": {},
   "outputs": [],
   "source": [
    "def information(x_train,y_train):\n",
    "    \"\"\"This function will give the relationship between Target and features.\n",
    "    \"\"\"\n",
    "    from sklearn.feature_selection import mutual_info_regression\n",
    "    mutual_info=mutual_info_regression(x_train,y_train)\n",
    "    mutual_info=pd.Series(mutual_info, index=x_train.columns)\n",
    "    return mutual_info.sort_values(ascending=False)"
   ]
  },
  {
   "cell_type": "code",
   "execution_count": 40,
   "id": "fde33c61",
   "metadata": {},
   "outputs": [
    {
     "data": {
      "text/plain": [
       "Price_per_sqft          1.062024\n",
       "Location                0.784901\n",
       "Area                    0.650405\n",
       "bhk                     0.398628\n",
       "Gymnasium               0.042212\n",
       "Maintenance Staff       0.037810\n",
       "Intercom                0.037662\n",
       "Children's Play Area    0.029898\n",
       "Lift                    0.024434\n",
       "Security                0.021115\n",
       "Car                     0.011985\n",
       "Clubhouse               0.008427\n",
       "dtype: float64"
      ]
     },
     "execution_count": 40,
     "metadata": {},
     "output_type": "execute_result"
    }
   ],
   "source": [
    "information(X,y)"
   ]
  },
  {
   "cell_type": "code",
   "execution_count": 41,
   "id": "b28fa393",
   "metadata": {},
   "outputs": [],
   "source": [
    "data=df.drop([\"Price_per_sqft\",\"Children's Play Area\",\"Security\",\"Lift\",\"Intercom\",\"Gymnasium\",\"Maintenance Staff\",\"Clubhouse\"],axis='columns')"
   ]
  },
  {
   "cell_type": "code",
   "execution_count": 135,
   "id": "d5451237",
   "metadata": {},
   "outputs": [
    {
     "data": {
      "text/plain": [
       "<AxesSubplot:>"
      ]
     },
     "execution_count": 135,
     "metadata": {},
     "output_type": "execute_result"
    },
    {
     "data": {
      "image/png": "[encoded data removed]",
      "text/plain": [
       "<Figure size 432x288 with 1 Axes>"
      ]
     },
     "metadata": {
      "needs_background": "light"
     },
     "output_type": "display_data"
    }
   ],
   "source": [
    "data.plot.box()"
   ]
  },
  {
   "cell_type": "code",
   "execution_count": 43,
   "id": "1c940d40",
   "metadata": {},
   "outputs": [],
   "source": [
    "# data.to_csv(\"data.csv\",index=False)"
   ]
  },
  {
   "cell_type": "code",
   "execution_count": 44,
   "id": "74af0469",
   "metadata": {},
   "outputs": [],
   "source": [
    "X = df.drop([\"Price\",\"Price_per_sqft\",\"Children's Play Area\",\"Security\",\"Lift\",\"Intercom\",\"Gymnasium\",\"Maintenance Staff\",\"Clubhouse\"],axis='columns')\n",
    "y=df[\"Price\"]"
   ]
  },
  {
   "cell_type": "code",
   "execution_count": 119,
   "id": "b9023c06",
   "metadata": {},
   "outputs": [
    {
     "data": {
      "text/plain": [
       "2691"
      ]
     },
     "execution_count": 119,
     "metadata": {},
     "output_type": "execute_result"
    }
   ],
   "source": [
    "len(y[y<10000000])"
   ]
  },
  {
   "cell_type": "code",
   "execution_count": 134,
   "id": "29c083e5",
   "metadata": {},
   "outputs": [
    {
     "data": {
      "text/html": [
       "<div>\n",
       "<style scoped>\n",
       "    .dataframe tbody tr th:only-of-type {\n",
       "        vertical-align: middle;\n",
       "    }\n",
       "\n",
       "    .dataframe tbody tr th {\n",
       "        vertical-align: top;\n",
       "    }\n",
       "\n",
       "    .dataframe thead th {\n",
       "        text-align: right;\n",
       "    }\n",
       "</style>\n",
       "<table border=\"1\" class=\"dataframe\">\n",
       "  <thead>\n",
       "    <tr style=\"text-align: right;\">\n",
       "      <th></th>\n",
       "      <th>Area</th>\n",
       "      <th>Location</th>\n",
       "      <th>bhk</th>\n",
       "      <th>Car</th>\n",
       "    </tr>\n",
       "  </thead>\n",
       "  <tbody>\n",
       "    <tr>\n",
       "      <th>0</th>\n",
       "      <td>400</td>\n",
       "      <td>50</td>\n",
       "      <td>1</td>\n",
       "      <td>1</td>\n",
       "    </tr>\n",
       "    <tr>\n",
       "      <th>1</th>\n",
       "      <td>1000</td>\n",
       "      <td>50</td>\n",
       "      <td>2</td>\n",
       "      <td>1</td>\n",
       "    </tr>\n",
       "    <tr>\n",
       "      <th>2</th>\n",
       "      <td>1245</td>\n",
       "      <td>50</td>\n",
       "      <td>2</td>\n",
       "      <td>1</td>\n",
       "    </tr>\n",
       "    <tr>\n",
       "      <th>3</th>\n",
       "      <td>1183</td>\n",
       "      <td>50</td>\n",
       "      <td>2</td>\n",
       "      <td>1</td>\n",
       "    </tr>\n",
       "    <tr>\n",
       "      <th>4</th>\n",
       "      <td>1245</td>\n",
       "      <td>50</td>\n",
       "      <td>2</td>\n",
       "      <td>1</td>\n",
       "    </tr>\n",
       "    <tr>\n",
       "      <th>...</th>\n",
       "      <td>...</td>\n",
       "      <td>...</td>\n",
       "      <td>...</td>\n",
       "      <td>...</td>\n",
       "    </tr>\n",
       "    <tr>\n",
       "      <th>4864</th>\n",
       "      <td>1050</td>\n",
       "      <td>26</td>\n",
       "      <td>2</td>\n",
       "      <td>1</td>\n",
       "    </tr>\n",
       "    <tr>\n",
       "      <th>4865</th>\n",
       "      <td>1509</td>\n",
       "      <td>119</td>\n",
       "      <td>3</td>\n",
       "      <td>0</td>\n",
       "    </tr>\n",
       "    <tr>\n",
       "      <th>4866</th>\n",
       "      <td>1073</td>\n",
       "      <td>119</td>\n",
       "      <td>2</td>\n",
       "      <td>0</td>\n",
       "    </tr>\n",
       "    <tr>\n",
       "      <th>4867</th>\n",
       "      <td>1735</td>\n",
       "      <td>119</td>\n",
       "      <td>3</td>\n",
       "      <td>0</td>\n",
       "    </tr>\n",
       "    <tr>\n",
       "      <th>4868</th>\n",
       "      <td>840</td>\n",
       "      <td>119</td>\n",
       "      <td>2</td>\n",
       "      <td>0</td>\n",
       "    </tr>\n",
       "  </tbody>\n",
       "</table>\n",
       "<p>4869 rows × 4 columns</p>\n",
       "</div>"
      ],
      "text/plain": [
       "      Area  Location  bhk  Car\n",
       "0      400        50    1    1\n",
       "1     1000        50    2    1\n",
       "2     1245        50    2    1\n",
       "3     1183        50    2    1\n",
       "4     1245        50    2    1\n",
       "...    ...       ...  ...  ...\n",
       "4864  1050        26    2    1\n",
       "4865  1509       119    3    0\n",
       "4866  1073       119    2    0\n",
       "4867  1735       119    3    0\n",
       "4868   840       119    2    0\n",
       "\n",
       "[4869 rows x 4 columns]"
      ]
     },
     "execution_count": 134,
     "metadata": {},
     "output_type": "execute_result"
    }
   ],
   "source": [
    "X"
   ]
  },
  {
   "cell_type": "code",
   "execution_count": 46,
   "id": "6610f67b",
   "metadata": {},
   "outputs": [],
   "source": [
    "# train test split\n",
    "X_train, X_test, y_train, y_test = train_test_split(X,y,test_size=0.25,random_state=100)"
   ]
  },
  {
   "cell_type": "code",
   "execution_count": 47,
   "id": "616b4225",
   "metadata": {},
   "outputs": [],
   "source": [
    "scale=StandardScaler()"
   ]
  },
  {
   "cell_type": "code",
   "execution_count": 48,
   "id": "31e141eb",
   "metadata": {},
   "outputs": [],
   "source": [
    "lin_reg=LinearRegression()"
   ]
  },
  {
   "cell_type": "code",
   "execution_count": 49,
   "id": "57d09307",
   "metadata": {},
   "outputs": [],
   "source": [
    "pipe=make_pipeline(scale,lin_reg)"
   ]
  },
  {
   "cell_type": "code",
   "execution_count": 50,
   "id": "57dec0f7",
   "metadata": {},
   "outputs": [
    {
     "data": {
      "text/html": [
       "<style>#sk-container-id-1 {color: black;background-color: white;}#sk-container-id-1 pre{padding: 0;}#sk-container-id-1 div.sk-toggleable {background-color: white;}#sk-container-id-1 label.sk-toggleable__label {cursor: pointer;display: block;width: 100%;margin-bottom: 0;padding: 0.3em;box-sizing: border-box;text-align: center;}#sk-container-id-1 label.sk-toggleable__label-arrow:before {content: \"▸\";float: left;margin-right: 0.25em;color: #696969;}#sk-container-id-1 label.sk-toggleable__label-arrow:hover:before {color: black;}#sk-container-id-1 div.sk-estimator:hover label.sk-toggleable__label-arrow:before {color: black;}#sk-container-id-1 div.sk-toggleable__content {max-height: 0;max-width: 0;overflow: hidden;text-align: left;background-color: #f0f8ff;}#sk-container-id-1 div.sk-toggleable__content pre {margin: 0.2em;color: black;border-radius: 0.25em;background-color: #f0f8ff;}#sk-container-id-1 input.sk-toggleable__control:checked~div.sk-toggleable__content {max-height: 200px;max-width: 100%;overflow: auto;}#sk-container-id-1 input.sk-toggleable__control:checked~label.sk-toggleable__label-arrow:before {content: \"▾\";}#sk-container-id-1 div.sk-estimator input.sk-toggleable__control:checked~label.sk-toggleable__label {background-color: #d4ebff;}#sk-container-id-1 div.sk-label input.sk-toggleable__control:checked~label.sk-toggleable__label {background-color: #d4ebff;}#sk-container-id-1 input.sk-hidden--visually {border: 0;clip: rect(1px 1px 1px 1px);clip: rect(1px, 1px, 1px, 1px);height: 1px;margin: -1px;overflow: hidden;padding: 0;position: absolute;width: 1px;}#sk-container-id-1 div.sk-estimator {font-family: monospace;background-color: #f0f8ff;border: 1px dotted black;border-radius: 0.25em;box-sizing: border-box;margin-bottom: 0.5em;}#sk-container-id-1 div.sk-estimator:hover {background-color: #d4ebff;}#sk-container-id-1 div.sk-parallel-item::after {content: \"\";width: 100%;border-bottom: 1px solid gray;flex-grow: 1;}#sk-container-id-1 div.sk-label:hover label.sk-toggleable__label {background-color: #d4ebff;}#sk-container-id-1 div.sk-serial::before {content: \"\";position: absolute;border-left: 1px solid gray;box-sizing: border-box;top: 0;bottom: 0;left: 50%;z-index: 0;}#sk-container-id-1 div.sk-serial {display: flex;flex-direction: column;align-items: center;background-color: white;padding-right: 0.2em;padding-left: 0.2em;position: relative;}#sk-container-id-1 div.sk-item {position: relative;z-index: 1;}#sk-container-id-1 div.sk-parallel {display: flex;align-items: stretch;justify-content: center;background-color: white;position: relative;}#sk-container-id-1 div.sk-item::before, #sk-container-id-1 div.sk-parallel-item::before {content: \"\";position: absolute;border-left: 1px solid gray;box-sizing: border-box;top: 0;bottom: 0;left: 50%;z-index: -1;}#sk-container-id-1 div.sk-parallel-item {display: flex;flex-direction: column;z-index: 1;position: relative;background-color: white;}#sk-container-id-1 div.sk-parallel-item:first-child::after {align-self: flex-end;width: 50%;}#sk-container-id-1 div.sk-parallel-item:last-child::after {align-self: flex-start;width: 50%;}#sk-container-id-1 div.sk-parallel-item:only-child::after {width: 0;}#sk-container-id-1 div.sk-dashed-wrapped {border: 1px dashed gray;margin: 0 0.4em 0.5em 0.4em;box-sizing: border-box;padding-bottom: 0.4em;background-color: white;}#sk-container-id-1 div.sk-label label {font-family: monospace;font-weight: bold;display: inline-block;line-height: 1.2em;}#sk-container-id-1 div.sk-label-container {text-align: center;}#sk-container-id-1 div.sk-container {/* jupyter's `normalize.less` sets `[hidden] { display: none; }` but bootstrap.min.css set `[hidden] { display: none !important; }` so we also need the `!important` here to be able to override the default hidden behavior on the sphinx rendered scikit-learn.org. See: https://github.com/scikit-learn/scikit-learn/issues/21755 */display: inline-block !important;position: relative;}#sk-container-id-1 div.sk-text-repr-fallback {display: none;}</style><div id=\"sk-container-id-1\" class=\"sk-top-container\"><div class=\"sk-text-repr-fallback\"><pre>Pipeline(steps=[(&#x27;standardscaler&#x27;, StandardScaler()),\n",
       "                (&#x27;linearregression&#x27;, LinearRegression())])</pre><b>In a Jupyter environment, please rerun this cell to show the HTML representation or trust the notebook. <br />On GitHub, the HTML representation is unable to render, please try loading this page with nbviewer.org.</b></div><div class=\"sk-container\" hidden><div class=\"sk-item sk-dashed-wrapped\"><div class=\"sk-label-container\"><div class=\"sk-label sk-toggleable\"><input class=\"sk-toggleable__control sk-hidden--visually\" id=\"sk-estimator-id-1\" type=\"checkbox\" ><label for=\"sk-estimator-id-1\" class=\"sk-toggleable__label sk-toggleable__label-arrow\">Pipeline</label><div class=\"sk-toggleable__content\"><pre>Pipeline(steps=[(&#x27;standardscaler&#x27;, StandardScaler()),\n",
       "                (&#x27;linearregression&#x27;, LinearRegression())])</pre></div></div></div><div class=\"sk-serial\"><div class=\"sk-item\"><div class=\"sk-estimator sk-toggleable\"><input class=\"sk-toggleable__control sk-hidden--visually\" id=\"sk-estimator-id-2\" type=\"checkbox\" ><label for=\"sk-estimator-id-2\" class=\"sk-toggleable__label sk-toggleable__label-arrow\">StandardScaler</label><div class=\"sk-toggleable__content\"><pre>StandardScaler()</pre></div></div></div><div class=\"sk-item\"><div class=\"sk-estimator sk-toggleable\"><input class=\"sk-toggleable__control sk-hidden--visually\" id=\"sk-estimator-id-3\" type=\"checkbox\" ><label for=\"sk-estimator-id-3\" class=\"sk-toggleable__label sk-toggleable__label-arrow\">LinearRegression</label><div class=\"sk-toggleable__content\"><pre>LinearRegression()</pre></div></div></div></div></div></div></div>"
      ],
      "text/plain": [
       "Pipeline(steps=[('standardscaler', StandardScaler()),\n",
       "                ('linearregression', LinearRegression())])"
      ]
     },
     "execution_count": 50,
     "metadata": {},
     "output_type": "execute_result"
    }
   ],
   "source": [
    "pipe.fit(X_train,y_train)"
   ]
  },
  {
   "cell_type": "code",
   "execution_count": 51,
   "id": "a5adb20b",
   "metadata": {},
   "outputs": [],
   "source": [
    "y_pread_lin=pipe.predict(X_test)"
   ]
  },
  {
   "cell_type": "code",
   "execution_count": 52,
   "id": "3c11358b",
   "metadata": {},
   "outputs": [
    {
     "data": {
      "text/plain": [
       "0.7300519356678528"
      ]
     },
     "execution_count": 52,
     "metadata": {},
     "output_type": "execute_result"
    }
   ],
   "source": [
    "r2_score(y_test,y_pread_lin)"
   ]
  },
  {
   "cell_type": "code",
   "execution_count": 53,
   "id": "5d99903f",
   "metadata": {},
   "outputs": [
    {
     "data": {
      "text/html": [
       "<style>#sk-container-id-2 {color: black;background-color: white;}#sk-container-id-2 pre{padding: 0;}#sk-container-id-2 div.sk-toggleable {background-color: white;}#sk-container-id-2 label.sk-toggleable__label {cursor: pointer;display: block;width: 100%;margin-bottom: 0;padding: 0.3em;box-sizing: border-box;text-align: center;}#sk-container-id-2 label.sk-toggleable__label-arrow:before {content: \"▸\";float: left;margin-right: 0.25em;color: #696969;}#sk-container-id-2 label.sk-toggleable__label-arrow:hover:before {color: black;}#sk-container-id-2 div.sk-estimator:hover label.sk-toggleable__label-arrow:before {color: black;}#sk-container-id-2 div.sk-toggleable__content {max-height: 0;max-width: 0;overflow: hidden;text-align: left;background-color: #f0f8ff;}#sk-container-id-2 div.sk-toggleable__content pre {margin: 0.2em;color: black;border-radius: 0.25em;background-color: #f0f8ff;}#sk-container-id-2 input.sk-toggleable__control:checked~div.sk-toggleable__content {max-height: 200px;max-width: 100%;overflow: auto;}#sk-container-id-2 input.sk-toggleable__control:checked~label.sk-toggleable__label-arrow:before {content: \"▾\";}#sk-container-id-2 div.sk-estimator input.sk-toggleable__control:checked~label.sk-toggleable__label {background-color: #d4ebff;}#sk-container-id-2 div.sk-label input.sk-toggleable__control:checked~label.sk-toggleable__label {background-color: #d4ebff;}#sk-container-id-2 input.sk-hidden--visually {border: 0;clip: rect(1px 1px 1px 1px);clip: rect(1px, 1px, 1px, 1px);height: 1px;margin: -1px;overflow: hidden;padding: 0;position: absolute;width: 1px;}#sk-container-id-2 div.sk-estimator {font-family: monospace;background-color: #f0f8ff;border: 1px dotted black;border-radius: 0.25em;box-sizing: border-box;margin-bottom: 0.5em;}#sk-container-id-2 div.sk-estimator:hover {background-color: #d4ebff;}#sk-container-id-2 div.sk-parallel-item::after {content: \"\";width: 100%;border-bottom: 1px solid gray;flex-grow: 1;}#sk-container-id-2 div.sk-label:hover label.sk-toggleable__label {background-color: #d4ebff;}#sk-container-id-2 div.sk-serial::before {content: \"\";position: absolute;border-left: 1px solid gray;box-sizing: border-box;top: 0;bottom: 0;left: 50%;z-index: 0;}#sk-container-id-2 div.sk-serial {display: flex;flex-direction: column;align-items: center;background-color: white;padding-right: 0.2em;padding-left: 0.2em;position: relative;}#sk-container-id-2 div.sk-item {position: relative;z-index: 1;}#sk-container-id-2 div.sk-parallel {display: flex;align-items: stretch;justify-content: center;background-color: white;position: relative;}#sk-container-id-2 div.sk-item::before, #sk-container-id-2 div.sk-parallel-item::before {content: \"\";position: absolute;border-left: 1px solid gray;box-sizing: border-box;top: 0;bottom: 0;left: 50%;z-index: -1;}#sk-container-id-2 div.sk-parallel-item {display: flex;flex-direction: column;z-index: 1;position: relative;background-color: white;}#sk-container-id-2 div.sk-parallel-item:first-child::after {align-self: flex-end;width: 50%;}#sk-container-id-2 div.sk-parallel-item:last-child::after {align-self: flex-start;width: 50%;}#sk-container-id-2 div.sk-parallel-item:only-child::after {width: 0;}#sk-container-id-2 div.sk-dashed-wrapped {border: 1px dashed gray;margin: 0 0.4em 0.5em 0.4em;box-sizing: border-box;padding-bottom: 0.4em;background-color: white;}#sk-container-id-2 div.sk-label label {font-family: monospace;font-weight: bold;display: inline-block;line-height: 1.2em;}#sk-container-id-2 div.sk-label-container {text-align: center;}#sk-container-id-2 div.sk-container {/* jupyter's `normalize.less` sets `[hidden] { display: none; }` but bootstrap.min.css set `[hidden] { display: none !important; }` so we also need the `!important` here to be able to override the default hidden behavior on the sphinx rendered scikit-learn.org. See: https://github.com/scikit-learn/scikit-learn/issues/21755 */display: inline-block !important;position: relative;}#sk-container-id-2 div.sk-text-repr-fallback {display: none;}</style><div id=\"sk-container-id-2\" class=\"sk-top-container\"><div class=\"sk-text-repr-fallback\"><pre>LassoCV(alphas=array([1.00000000e-03, 3.45793103e-01, 6.90586207e-01, 1.03537931e+00,\n",
       "       1.38017241e+00, 1.72496552e+00, 2.06975862e+00, 2.41455172e+00,\n",
       "       2.75934483e+00, 3.10413793e+00, 3.44893103e+00, 3.79372414e+00,\n",
       "       4.13851724e+00, 4.48331034e+00, 4.82810345e+00, 5.17289655e+00,\n",
       "       5.51768966e+00, 5.86248276e+00, 6.20727586e+00, 6.55206897e+00,\n",
       "       6.89686207e+00, 7.24165517e+00, 7.58644828e+00, 7.93124138e+00,\n",
       "       8.27603448e+00, 8.62082759e+00, 8.96562069e+00, 9.31041379e+00,\n",
       "       9.65520690e+00, 1.00000000e+01]),\n",
       "        cv=20)</pre><b>In a Jupyter environment, please rerun this cell to show the HTML representation or trust the notebook. <br />On GitHub, the HTML representation is unable to render, please try loading this page with nbviewer.org.</b></div><div class=\"sk-container\" hidden><div class=\"sk-item\"><div class=\"sk-estimator sk-toggleable\"><input class=\"sk-toggleable__control sk-hidden--visually\" id=\"sk-estimator-id-4\" type=\"checkbox\" checked><label for=\"sk-estimator-id-4\" class=\"sk-toggleable__label sk-toggleable__label-arrow\">LassoCV</label><div class=\"sk-toggleable__content\"><pre>LassoCV(alphas=array([1.00000000e-03, 3.45793103e-01, 6.90586207e-01, 1.03537931e+00,\n",
       "       1.38017241e+00, 1.72496552e+00, 2.06975862e+00, 2.41455172e+00,\n",
       "       2.75934483e+00, 3.10413793e+00, 3.44893103e+00, 3.79372414e+00,\n",
       "       4.13851724e+00, 4.48331034e+00, 4.82810345e+00, 5.17289655e+00,\n",
       "       5.51768966e+00, 5.86248276e+00, 6.20727586e+00, 6.55206897e+00,\n",
       "       6.89686207e+00, 7.24165517e+00, 7.58644828e+00, 7.93124138e+00,\n",
       "       8.27603448e+00, 8.62082759e+00, 8.96562069e+00, 9.31041379e+00,\n",
       "       9.65520690e+00, 1.00000000e+01]),\n",
       "        cv=20)</pre></div></div></div></div></div>"
      ],
      "text/plain": [
       "LassoCV(alphas=array([1.00000000e-03, 3.45793103e-01, 6.90586207e-01, 1.03537931e+00,\n",
       "       1.38017241e+00, 1.72496552e+00, 2.06975862e+00, 2.41455172e+00,\n",
       "       2.75934483e+00, 3.10413793e+00, 3.44893103e+00, 3.79372414e+00,\n",
       "       4.13851724e+00, 4.48331034e+00, 4.82810345e+00, 5.17289655e+00,\n",
       "       5.51768966e+00, 5.86248276e+00, 6.20727586e+00, 6.55206897e+00,\n",
       "       6.89686207e+00, 7.24165517e+00, 7.58644828e+00, 7.93124138e+00,\n",
       "       8.27603448e+00, 8.62082759e+00, 8.96562069e+00, 9.31041379e+00,\n",
       "       9.65520690e+00, 1.00000000e+01]),\n",
       "        cv=20)"
      ]
     },
     "execution_count": 53,
     "metadata": {},
     "output_type": "execute_result"
    }
   ],
   "source": [
    "lassoc=LassoCV(alphas=np.linspace(0.001,10,30),cv=20)\n",
    "lassoc.fit(X_train,y_train)"
   ]
  },
  {
   "cell_type": "code",
   "execution_count": 54,
   "id": "be15e31f",
   "metadata": {},
   "outputs": [
    {
     "data": {
      "text/plain": [
       "0.001"
      ]
     },
     "execution_count": 54,
     "metadata": {},
     "output_type": "execute_result"
    }
   ],
   "source": [
    "lassoc.alpha_"
   ]
  },
  {
   "cell_type": "code",
   "execution_count": 55,
   "id": "6a333e9d",
   "metadata": {},
   "outputs": [],
   "source": [
    "lasso=Lasso(alpha=lassoc.alpha_)"
   ]
  },
  {
   "cell_type": "code",
   "execution_count": 56,
   "id": "4616ff3f",
   "metadata": {},
   "outputs": [],
   "source": [
    "pipe2=make_pipeline(scale,lasso)"
   ]
  },
  {
   "cell_type": "code",
   "execution_count": 57,
   "id": "51bd6899",
   "metadata": {},
   "outputs": [
    {
     "data": {
      "text/html": [
       "<style>#sk-container-id-3 {color: black;background-color: white;}#sk-container-id-3 pre{padding: 0;}#sk-container-id-3 div.sk-toggleable {background-color: white;}#sk-container-id-3 label.sk-toggleable__label {cursor: pointer;display: block;width: 100%;margin-bottom: 0;padding: 0.3em;box-sizing: border-box;text-align: center;}#sk-container-id-3 label.sk-toggleable__label-arrow:before {content: \"▸\";float: left;margin-right: 0.25em;color: #696969;}#sk-container-id-3 label.sk-toggleable__label-arrow:hover:before {color: black;}#sk-container-id-3 div.sk-estimator:hover label.sk-toggleable__label-arrow:before {color: black;}#sk-container-id-3 div.sk-toggleable__content {max-height: 0;max-width: 0;overflow: hidden;text-align: left;background-color: #f0f8ff;}#sk-container-id-3 div.sk-toggleable__content pre {margin: 0.2em;color: black;border-radius: 0.25em;background-color: #f0f8ff;}#sk-container-id-3 input.sk-toggleable__control:checked~div.sk-toggleable__content {max-height: 200px;max-width: 100%;overflow: auto;}#sk-container-id-3 input.sk-toggleable__control:checked~label.sk-toggleable__label-arrow:before {content: \"▾\";}#sk-container-id-3 div.sk-estimator input.sk-toggleable__control:checked~label.sk-toggleable__label {background-color: #d4ebff;}#sk-container-id-3 div.sk-label input.sk-toggleable__control:checked~label.sk-toggleable__label {background-color: #d4ebff;}#sk-container-id-3 input.sk-hidden--visually {border: 0;clip: rect(1px 1px 1px 1px);clip: rect(1px, 1px, 1px, 1px);height: 1px;margin: -1px;overflow: hidden;padding: 0;position: absolute;width: 1px;}#sk-container-id-3 div.sk-estimator {font-family: monospace;background-color: #f0f8ff;border: 1px dotted black;border-radius: 0.25em;box-sizing: border-box;margin-bottom: 0.5em;}#sk-container-id-3 div.sk-estimator:hover {background-color: #d4ebff;}#sk-container-id-3 div.sk-parallel-item::after {content: \"\";width: 100%;border-bottom: 1px solid gray;flex-grow: 1;}#sk-container-id-3 div.sk-label:hover label.sk-toggleable__label {background-color: #d4ebff;}#sk-container-id-3 div.sk-serial::before {content: \"\";position: absolute;border-left: 1px solid gray;box-sizing: border-box;top: 0;bottom: 0;left: 50%;z-index: 0;}#sk-container-id-3 div.sk-serial {display: flex;flex-direction: column;align-items: center;background-color: white;padding-right: 0.2em;padding-left: 0.2em;position: relative;}#sk-container-id-3 div.sk-item {position: relative;z-index: 1;}#sk-container-id-3 div.sk-parallel {display: flex;align-items: stretch;justify-content: center;background-color: white;position: relative;}#sk-container-id-3 div.sk-item::before, #sk-container-id-3 div.sk-parallel-item::before {content: \"\";position: absolute;border-left: 1px solid gray;box-sizing: border-box;top: 0;bottom: 0;left: 50%;z-index: -1;}#sk-container-id-3 div.sk-parallel-item {display: flex;flex-direction: column;z-index: 1;position: relative;background-color: white;}#sk-container-id-3 div.sk-parallel-item:first-child::after {align-self: flex-end;width: 50%;}#sk-container-id-3 div.sk-parallel-item:last-child::after {align-self: flex-start;width: 50%;}#sk-container-id-3 div.sk-parallel-item:only-child::after {width: 0;}#sk-container-id-3 div.sk-dashed-wrapped {border: 1px dashed gray;margin: 0 0.4em 0.5em 0.4em;box-sizing: border-box;padding-bottom: 0.4em;background-color: white;}#sk-container-id-3 div.sk-label label {font-family: monospace;font-weight: bold;display: inline-block;line-height: 1.2em;}#sk-container-id-3 div.sk-label-container {text-align: center;}#sk-container-id-3 div.sk-container {/* jupyter's `normalize.less` sets `[hidden] { display: none; }` but bootstrap.min.css set `[hidden] { display: none !important; }` so we also need the `!important` here to be able to override the default hidden behavior on the sphinx rendered scikit-learn.org. See: https://github.com/scikit-learn/scikit-learn/issues/21755 */display: inline-block !important;position: relative;}#sk-container-id-3 div.sk-text-repr-fallback {display: none;}</style><div id=\"sk-container-id-3\" class=\"sk-top-container\"><div class=\"sk-text-repr-fallback\"><pre>Pipeline(steps=[(&#x27;standardscaler&#x27;, StandardScaler()),\n",
       "                (&#x27;lasso&#x27;, Lasso(alpha=0.001))])</pre><b>In a Jupyter environment, please rerun this cell to show the HTML representation or trust the notebook. <br />On GitHub, the HTML representation is unable to render, please try loading this page with nbviewer.org.</b></div><div class=\"sk-container\" hidden><div class=\"sk-item sk-dashed-wrapped\"><div class=\"sk-label-container\"><div class=\"sk-label sk-toggleable\"><input class=\"sk-toggleable__control sk-hidden--visually\" id=\"sk-estimator-id-5\" type=\"checkbox\" ><label for=\"sk-estimator-id-5\" class=\"sk-toggleable__label sk-toggleable__label-arrow\">Pipeline</label><div class=\"sk-toggleable__content\"><pre>Pipeline(steps=[(&#x27;standardscaler&#x27;, StandardScaler()),\n",
       "                (&#x27;lasso&#x27;, Lasso(alpha=0.001))])</pre></div></div></div><div class=\"sk-serial\"><div class=\"sk-item\"><div class=\"sk-estimator sk-toggleable\"><input class=\"sk-toggleable__control sk-hidden--visually\" id=\"sk-estimator-id-6\" type=\"checkbox\" ><label for=\"sk-estimator-id-6\" class=\"sk-toggleable__label sk-toggleable__label-arrow\">StandardScaler</label><div class=\"sk-toggleable__content\"><pre>StandardScaler()</pre></div></div></div><div class=\"sk-item\"><div class=\"sk-estimator sk-toggleable\"><input class=\"sk-toggleable__control sk-hidden--visually\" id=\"sk-estimator-id-7\" type=\"checkbox\" ><label for=\"sk-estimator-id-7\" class=\"sk-toggleable__label sk-toggleable__label-arrow\">Lasso</label><div class=\"sk-toggleable__content\"><pre>Lasso(alpha=0.001)</pre></div></div></div></div></div></div></div>"
      ],
      "text/plain": [
       "Pipeline(steps=[('standardscaler', StandardScaler()),\n",
       "                ('lasso', Lasso(alpha=0.001))])"
      ]
     },
     "execution_count": 57,
     "metadata": {},
     "output_type": "execute_result"
    }
   ],
   "source": [
    "pipe2.fit(X_train,y_train)"
   ]
  },
  {
   "cell_type": "code",
   "execution_count": 58,
   "id": "2d24b8fb",
   "metadata": {},
   "outputs": [],
   "source": [
    "y_pread_lasso=pipe2.predict(X_test)"
   ]
  },
  {
   "cell_type": "code",
   "execution_count": 59,
   "id": "2c3f0a57",
   "metadata": {},
   "outputs": [
    {
     "data": {
      "text/plain": [
       "0.7300519356725843"
      ]
     },
     "execution_count": 59,
     "metadata": {},
     "output_type": "execute_result"
    }
   ],
   "source": [
    "r2_score(y_test,y_pread_lasso)"
   ]
  },
  {
   "cell_type": "code",
   "execution_count": 60,
   "id": "9aeca6ab",
   "metadata": {},
   "outputs": [],
   "source": [
    "rf=RandomForestRegressor(n_estimators=120)"
   ]
  },
  {
   "cell_type": "code",
   "execution_count": 61,
   "id": "fd3b3547",
   "metadata": {},
   "outputs": [
    {
     "data": {
      "text/plain": [
       "0.9233382922783893"
      ]
     },
     "execution_count": 61,
     "metadata": {},
     "output_type": "execute_result"
    }
   ],
   "source": [
    "pipe4=make_pipeline(scale,rf)\n",
    "\n",
    "pipe4.fit(X_train,y_train)\n",
    "\n",
    "y_pread_rf=pipe4.predict(X_test)\n",
    "\n",
    "r2_score(y_test,y_pread_rf)"
   ]
  },
  {
   "cell_type": "code",
   "execution_count": 132,
   "id": "27bddc4c",
   "metadata": {},
   "outputs": [],
   "source": [
    "# pipe4.predict(400,50,1,1)"
   ]
  },
  {
   "cell_type": "code",
   "execution_count": 61,
   "id": "8e24d6ff",
   "metadata": {},
   "outputs": [],
   "source": [
    "def pikle_save(name,model):\n",
    "    import pickle\n",
    "    pickle.dump(model, open(f'{name}.pickle', 'wb'))"
   ]
  },
  {
   "cell_type": "code",
   "execution_count": 62,
   "id": "3db96b57",
   "metadata": {},
   "outputs": [],
   "source": [
    "name=\"Random_forest\"\n",
    "pikle_save(name,rf)"
   ]
  },
  {
   "cell_type": "code",
   "execution_count": 65,
   "id": "06be0f4a",
   "metadata": {},
   "outputs": [],
   "source": [
    "gbr=GradientBoostingRegressor(learning_rate=0.2)"
   ]
  },
  {
   "cell_type": "code",
   "execution_count": 66,
   "id": "1a6aa67a",
   "metadata": {},
   "outputs": [
    {
     "data": {
      "text/plain": [
       "0.9220625273359032"
      ]
     },
     "execution_count": 66,
     "metadata": {},
     "output_type": "execute_result"
    }
   ],
   "source": [
    "pipe5=make_pipeline(scale,gbr)\n",
    "\n",
    "pipe5.fit(X_train,y_train)\n",
    "\n",
    "y_pread_gbr=pipe5.predict(X_test)\n",
    "\n",
    "r2_score(y_test,y_pread_gbr)"
   ]
  },
  {
   "cell_type": "code",
   "execution_count": 92,
   "id": "997420b5",
   "metadata": {},
   "outputs": [
    {
     "data": {
      "text/plain": [
       "{'Badlapur': 0,\n",
       " 'Badlapur West': 1,\n",
       " 'Karjat': 2,\n",
       " 'Virar East': 3,\n",
       " 'Nalasopara West': 4,\n",
       " 'Titwala': 5,\n",
       " 'Nala Sopara': 6,\n",
       " 'Ambernath West': 7,\n",
       " 'Naigaon East': 8,\n",
       " 'Boisar': 9,\n",
       " 'Palghar': 10,\n",
       " 'Badlapur East': 11,\n",
       " 'Ambernath East': 12,\n",
       " 'Virar West': 13,\n",
       " 'Kewale': 14,\n",
       " 'Virar': 15,\n",
       " 'Koproli': 16,\n",
       " 'Vasai east': 17,\n",
       " 'Taloja': 18,\n",
       " 'Dronagiri': 19,\n",
       " 'Nalasopara East': 20,\n",
       " 'Karanjade': 21,\n",
       " 'Dombivali East': 22,\n",
       " 'Vasai': 23,\n",
       " 'Sector 22 Kamothe': 24,\n",
       " 'Thane': 25,\n",
       " 'taloja panchanand': 26,\n",
       " 'mumbai': 27,\n",
       " 'Vasai West': 28,\n",
       " 'Dombivli (West)': 29,\n",
       " 'Bhayandar East': 30,\n",
       " 'Mira Road and Beyond': 31,\n",
       " 'Kalyan West': 32,\n",
       " 'Shil Phata': 33,\n",
       " 'Kalyan East': 34,\n",
       " 'Dombivali': 35,\n",
       " 'Navi Basti': 36,\n",
       " 'Bhiwandi': 37,\n",
       " 'PARSIK NAGAR': 38,\n",
       " 'Palava': 39,\n",
       " 'Sector 17 Ulwe': 40,\n",
       " 'Kalwa': 41,\n",
       " 'Ulwe': 42,\n",
       " 'Kamothe': 43,\n",
       " 'Mira Road East': 44,\n",
       " 'Panvel': 45,\n",
       " 'Majiwada': 46,\n",
       " 'Sector12 Kamothe': 47,\n",
       " 'Sector 21 Kamothe': 48,\n",
       " 'Sector 19 Kharghar': 49,\n",
       " 'Airoli': 50,\n",
       " 'Sector 20 Kharghar': 51,\n",
       " 'kavesar': 52,\n",
       " 'Sector-18 Ulwe': 53,\n",
       " 'Sector 10': 54,\n",
       " 'Kharghar': 55,\n",
       " 'Koparkhairane Station Road': 56,\n",
       " 'Sector-8 Ulwe': 57,\n",
       " 'Koper Khairane': 58,\n",
       " 'Kurla West': 59,\n",
       " 'Dahisar East': 60,\n",
       " 'Kurla': 61,\n",
       " 'Dahisar West': 62,\n",
       " 'Kolshet Road': 63,\n",
       " 'Thane West': 64,\n",
       " 'Kalamboli': 65,\n",
       " 'Sector9 Kamothe': 66,\n",
       " 'other': 67,\n",
       " 'kandivali': 68,\n",
       " 'Hiranandani Estates': 69,\n",
       " 'Malad West': 70,\n",
       " 'Mulund East': 71,\n",
       " 'Sector 18 Kharghar': 72,\n",
       " 'Kandivali West': 73,\n",
       " 'Ghansoli': 74,\n",
       " 'Jogeshwari West': 75,\n",
       " 'Santacruz East': 76,\n",
       " 'Borivali West': 77,\n",
       " 'Dahisar': 78,\n",
       " 'Ghatkopar West': 79,\n",
       " 'Sector-3 Ulwe': 80,\n",
       " 'Chembur': 81,\n",
       " 'Kandivali East': 82,\n",
       " 'Borivali East': 83,\n",
       " 'Sanpada': 84,\n",
       " 'Andheri East': 85,\n",
       " 'Kanjurmarg': 86,\n",
       " 'Dattapada': 87,\n",
       " 'Rajendra Nagar': 88,\n",
       " 'Vikhroli': 89,\n",
       " 'Magathane': 90,\n",
       " 'Seawoods': 91,\n",
       " 'Thakur Village': 92,\n",
       " 'Malad East': 93,\n",
       " 'Mulund': 94,\n",
       " 'Powai': 95,\n",
       " 'Sion': 96,\n",
       " 'Sainath Nagar': 97,\n",
       " 'Mulund West': 98,\n",
       " 'Belapur': 99,\n",
       " 'Chembur East': 100,\n",
       " 'Vashi': 101,\n",
       " 'Nerul': 102,\n",
       " 'Goregaon West': 103,\n",
       " 'Wadala East Wadala': 104,\n",
       " 'Ghatkopar East': 105,\n",
       " 'Bhandup West': 106,\n",
       " 'Jogeshwari East': 107,\n",
       " 'Andheri': 108,\n",
       " 'Vasant Vihar': 109,\n",
       " 'Goregaon': 110,\n",
       " 'Ghatkopar': 111,\n",
       " 'Goregaon East': 112,\n",
       " 'Wadala': 113,\n",
       " 'Ville Parle East': 114,\n",
       " 'matunga east': 115,\n",
       " 'Andheri West': 116,\n",
       " 'Ville Parle West': 117,\n",
       " 'Khar': 118,\n",
       " 'vile parle west': 119,\n",
       " 'Matunga': 120,\n",
       " 'Santacruz West': 121,\n",
       " 'Prabhadevi': 122,\n",
       " 'Bandra East': 123,\n",
       " 'Lower Parel': 124,\n",
       " 'Parel': 125,\n",
       " 'Bandra West': 126,\n",
       " 'Khar West': 127,\n",
       " 'Juhu': 128,\n",
       " 'Worli': 129}"
      ]
     },
     "execution_count": 92,
     "metadata": {},
     "output_type": "execute_result"
    }
   ],
   "source": [
    "unserialized_data"
   ]
  },
  {
   "cell_type": "code",
   "execution_count": 63,
   "id": "5b3f19bc",
   "metadata": {},
   "outputs": [],
   "source": [
    "pipe = pickle.load(open(\"Random_forest.pickle\", 'rb'))"
   ]
  },
  {
   "cell_type": "code",
   "execution_count": 131,
   "id": "fc2627c5",
   "metadata": {},
   "outputs": [
    {
     "data": {
      "text/plain": [
       "203675000.0"
      ]
     },
     "execution_count": 131,
     "metadata": {},
     "output_type": "execute_result"
    }
   ],
   "source": [
    "location =\"kavesar\"\n",
    "location=unserialized_data[location]\n",
    "area =200\n",
    "bhk =2\n",
    "car =\"Yes\"\n",
    "car=car.lower()\n",
    "dt={\"yes\":1,\"no\":0}\n",
    "car=dt[car]\n",
    "user_input=pd.DataFrame([[location,area,bhk,car]], columns=[\"Location\",\"Area\",\"bhk\",\"Car\"])\n",
    "prediction=pipe.predict(user_input)[0]\n",
    "prediction"
   ]
  },
  {
   "cell_type": "code",
   "execution_count": 130,
   "id": "eddd654b",
   "metadata": {},
   "outputs": [
    {
     "name": "stdout",
     "output_type": "stream",
     "text": [
      "yes\n",
      "1\n"
     ]
    }
   ],
   "source": []
  },
  {
   "cell_type": "code",
   "execution_count": null,
   "id": "c179de7b",
   "metadata": {},
   "outputs": [],
   "source": []
  },
  {
   "cell_type": "code",
   "execution_count": null,
   "id": "611baa4e",
   "metadata": {},
   "outputs": [],
   "source": []
  }
 ],
 "metadata": {
  "kernelspec": {
   "display_name": "Python 3 (ipykernel)",
   "language": "python",
   "name": "python3"
  },
  "language_info": {
   "codemirror_mode": {
    "name": "ipython",
    "version": 3
   },
   "file_extension": ".py",
   "mimetype": "text/x-python",
   "name": "python",
   "nbconvert_exporter": "python",
   "pygments_lexer": "ipython3",
   "version": "3.9.12"
  }
 },
 "nbformat": 4,
 "nbformat_minor": 5
}
